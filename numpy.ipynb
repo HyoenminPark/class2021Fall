{
  "nbformat": 4,
  "nbformat_minor": 0,
  "metadata": {
    "kernelspec": {
      "display_name": "Python 3",
      "language": "python",
      "name": "python3"
    },
    "language_info": {
      "codemirror_mode": {
        "name": "ipython",
        "version": 3
      },
      "file_extension": ".py",
      "mimetype": "text/x-python",
      "name": "python",
      "nbconvert_exporter": "python",
      "pygments_lexer": "ipython3",
      "version": "3.7.1"
    },
    "colab": {
      "name": "numpy.ipynb",
      "provenance": [],
      "include_colab_link": true
    }
  },
  "cells": [
    {
      "cell_type": "markdown",
      "metadata": {
        "id": "view-in-github",
        "colab_type": "text"
      },
      "source": [
        "<a href=\"https://colab.research.google.com/github/HyoenminPark/class2021Fall/blob/main/numpy.ipynb\" target=\"_parent\"><img src=\"https://colab.research.google.com/assets/colab-badge.svg\" alt=\"Open In Colab\"/></a>"
      ]
    },
    {
      "cell_type": "markdown",
      "metadata": {
        "id": "JcCdLoe_4bY7"
      },
      "source": [
        "### create nd arrays (≈matrices)"
      ]
    },
    {
      "cell_type": "markdown",
      "source": [
        "[[1,2,3],[4,5,6]] 2d"
      ],
      "metadata": {
        "id": "rHlozfFTGoV6"
      }
    },
    {
      "cell_type": "markdown",
      "source": [
        "n dimensional \n",
        "\n",
        "1d - vectar \n",
        "\n",
        "n by m by p \n",
        "2 by 3 by 4 (3차원) "
      ],
      "metadata": {
        "id": "ISPUwH50-VYN"
      }
    },
    {
      "cell_type": "code",
      "metadata": {
        "id": "5ap7xyofShBB"
      },
      "source": [
        "import numpy as np"
      ],
      "execution_count": 4,
      "outputs": []
    },
    {
      "cell_type": "code",
      "metadata": {
        "id": "2rqpSPZCShBC",
        "colab": {
          "base_uri": "https://localhost:8080/"
        },
        "outputId": "f54dba9e-e49f-435d-8c48-71325535f63e"
      },
      "source": [
        "x = np.array([1,2,3])\n",
        "print(x)\n",
        "print(type(x))\n",
        "print(x.shape) #(3,) -> 3개 짜리 vector이다"
      ],
      "execution_count": null,
      "outputs": [
        {
          "output_type": "stream",
          "name": "stdout",
          "text": [
            "[1 2 3]\n",
            "<class 'numpy.ndarray'>\n",
            "(3,)\n"
          ]
        }
      ]
    },
    {
      "cell_type": "code",
      "source": [
        "x=np.array([[1,2,3],[4,5,6]])\n",
        "print(x)\n",
        "print(type(x))\n",
        "print(x.shape) #제일 큰 괄호 2, 그 안에 3개씩"
      ],
      "metadata": {
        "id": "hpeS2qnzG0wi",
        "outputId": "d0c0927c-7e33-455f-921c-0291d669ec03",
        "colab": {
          "base_uri": "https://localhost:8080/"
        }
      },
      "execution_count": null,
      "outputs": [
        {
          "output_type": "stream",
          "name": "stdout",
          "text": [
            "[[1 2 3]\n",
            " [4 5 6]]\n",
            "<class 'numpy.ndarray'>\n",
            "(2, 3)\n"
          ]
        }
      ]
    },
    {
      "cell_type": "code",
      "source": [
        "x=np.array([[[1,2,3],[4,5,6]],[[7,8,9],[0,1,2]]])\n",
        "print(x)\n",
        "print(type(x))\n",
        "print(x.shape)"
      ],
      "metadata": {
        "colab": {
          "base_uri": "https://localhost:8080/"
        },
        "id": "TM6r74l6eGG5",
        "outputId": "cc044181-04a6-4958-a2a6-e145dcf69d03"
      },
      "execution_count": 5,
      "outputs": [
        {
          "output_type": "stream",
          "name": "stdout",
          "text": [
            "[[[1 2 3]\n",
            "  [4 5 6]]\n",
            "\n",
            " [[7 8 9]\n",
            "  [0 1 2]]]\n",
            "<class 'numpy.ndarray'>\n",
            "(2, 2, 3)\n"
          ]
        }
      ]
    },
    {
      "cell_type": "code",
      "metadata": {
        "id": "EjC88C75ShBC",
        "colab": {
          "base_uri": "https://localhost:8080/"
        },
        "outputId": "2c72f55f-c3f9-4e6a-c26b-f3e209a295e3"
      },
      "source": [
        "x = np.arange(0,10,2) #[0,2,4,6,8]\n",
        "print(x)\n",
        "print(type(x))\n",
        "print(x.shape)"
      ],
      "execution_count": null,
      "outputs": [
        {
          "output_type": "stream",
          "name": "stdout",
          "text": [
            "[0 2 4 6 8]\n",
            "<class 'numpy.ndarray'>\n",
            "(5,)\n"
          ]
        }
      ]
    },
    {
      "cell_type": "code",
      "metadata": {
        "id": "-MwkCEjTShBC",
        "colab": {
          "base_uri": "https://localhost:8080/"
        },
        "outputId": "11427674-886c-4f82-ca48-a1465f53223e"
      },
      "source": [
        "x = np.linspace(0,10,6) #linspace - linear한 space 0에서 10까지 등간격으로 숫자를 6개 만들어라\n",
        "print(x)\n",
        "print(type(x))\n",
        "print(x.shape)"
      ],
      "execution_count": null,
      "outputs": [
        {
          "output_type": "stream",
          "name": "stdout",
          "text": [
            "[ 0.  2.  4.  6.  8. 10.]\n",
            "<class 'numpy.ndarray'>\n",
            "(6,)\n"
          ]
        }
      ]
    },
    {
      "cell_type": "code",
      "metadata": {
        "id": "tjk79SQ27fNv",
        "colab": {
          "base_uri": "https://localhost:8080/"
        },
        "outputId": "3ff3368b-6bb1-4664-933e-8504613780b1"
      },
      "source": [
        "x = np.array([[1,2,3], [4,5,6]])\n",
        "print(x)\n",
        "print(type(x))\n",
        "print(x.shape)"
      ],
      "execution_count": null,
      "outputs": [
        {
          "output_type": "stream",
          "name": "stdout",
          "text": [
            "[[1 2 3]\n",
            " [4 5 6]]\n",
            "<class 'numpy.ndarray'>\n",
            "(2, 3)\n"
          ]
        }
      ]
    },
    {
      "cell_type": "code",
      "metadata": {
        "id": "C1ogg6iZ7yir",
        "colab": {
          "base_uri": "https://localhost:8080/"
        },
        "outputId": "baf27f4e-10a7-40bb-82f4-bf470d8de90c"
      },
      "source": [
        "x = np.array([[[1,2,3], [4,5,6]], [[7,8,9], [10,11,12]]])\n",
        "print(x)\n",
        "print(type(x))\n",
        "print(x.shape)"
      ],
      "execution_count": null,
      "outputs": [
        {
          "output_type": "stream",
          "name": "stdout",
          "text": [
            "[[[ 1  2  3]\n",
            "  [ 4  5  6]]\n",
            "\n",
            " [[ 7  8  9]\n",
            "  [10 11 12]]]\n",
            "<class 'numpy.ndarray'>\n",
            "(2, 2, 3)\n"
          ]
        }
      ]
    },
    {
      "cell_type": "code",
      "metadata": {
        "id": "efgeNHtD8ZlT",
        "colab": {
          "base_uri": "https://localhost:8080/"
        },
        "outputId": "047fb9dd-8c90-4dbf-9f12-35123bed1052"
      },
      "source": [
        "x = np.ones([2, 2, 3]) #ones -> 1을 여러개 만들어라\n",
        "print(x)\n",
        "print(type(x))\n",
        "print(x.shape)"
      ],
      "execution_count": null,
      "outputs": [
        {
          "output_type": "stream",
          "name": "stdout",
          "text": [
            "[[[1. 1. 1.]\n",
            "  [1. 1. 1.]]\n",
            "\n",
            " [[1. 1. 1.]\n",
            "  [1. 1. 1.]]]\n",
            "<class 'numpy.ndarray'>\n",
            "(2, 2, 3)\n"
          ]
        }
      ]
    },
    {
      "cell_type": "code",
      "metadata": {
        "id": "b_F-ccY08zzl",
        "colab": {
          "base_uri": "https://localhost:8080/"
        },
        "outputId": "d56dd759-bbd1-48d5-d208-4a2084fe1cec"
      },
      "source": [
        "x = np.zeros([2, 2, 3])\n",
        "print(x)\n",
        "print(type(x))\n",
        "print(x.shape)\n",
        "x.reshape(3,2,2)"
      ],
      "execution_count": null,
      "outputs": [
        {
          "output_type": "stream",
          "name": "stdout",
          "text": [
            "[[[0. 0. 0.]\n",
            "  [0. 0. 0.]]\n",
            "\n",
            " [[0. 0. 0.]\n",
            "  [0. 0. 0.]]]\n",
            "<class 'numpy.ndarray'>\n",
            "(2, 2, 3)\n"
          ]
        },
        {
          "output_type": "execute_result",
          "data": {
            "text/plain": [
              "array([[[0., 0.],\n",
              "        [0., 0.]],\n",
              "\n",
              "       [[0., 0.],\n",
              "        [0., 0.]],\n",
              "\n",
              "       [[0., 0.],\n",
              "        [0., 0.]]])"
            ]
          },
          "metadata": {},
          "execution_count": 27
        }
      ]
    },
    {
      "cell_type": "markdown",
      "metadata": {
        "id": "0hQuDJ5g9gpE"
      },
      "source": [
        "### create random numbers"
      ]
    },
    {
      "cell_type": "code",
      "metadata": {
        "id": "QRatmkx79otL"
      },
      "source": [
        "import matplotlib.pyplot as plt"
      ],
      "execution_count": 7,
      "outputs": []
    },
    {
      "cell_type": "code",
      "metadata": {
        "id": "z1oOAB6dShBD",
        "colab": {
          "base_uri": "https://localhost:8080/",
          "height": 918
        },
        "outputId": "afc1cdb1-e42d-4498-bb87-70b5d0105280"
      },
      "source": [
        "x = np.random.normal(0, 1, 100) #(평균, 표준편차, 개수를 몇 개로 할까)\n",
        "print(x)\n",
        "plt.hist(x, bins=30)"
      ],
      "execution_count": 11,
      "outputs": [
        {
          "output_type": "stream",
          "name": "stdout",
          "text": [
            "[ 5.06617968e-01 -9.13190178e-01 -9.61086064e-01 -1.34037410e+00\n",
            " -6.47224601e-05  1.31478903e+00  8.41234502e-01  1.83933710e-01\n",
            "  1.29791257e+00  1.22076577e+00  1.48681880e+00 -8.54077968e-01\n",
            " -3.95613662e-01 -5.92044378e-01  1.45712054e+00 -1.51954892e+00\n",
            " -9.93616406e-01 -8.91573254e-01  1.89114319e-01  1.17987534e+00\n",
            "  2.91766860e-01 -1.55251647e+00  7.36556337e-01  9.18801500e-01\n",
            "  1.19959710e+00  3.76025778e-01 -1.46100111e+00 -6.71221347e-01\n",
            " -7.52171709e-01  8.86780697e-01 -6.91775669e-01  1.91871575e+00\n",
            "  1.15708235e+00  7.25050855e-01 -6.23236273e-01 -1.38731863e+00\n",
            "  2.41514631e-01 -4.93422777e-01 -8.23472682e-01  2.27274499e-01\n",
            "  1.89766703e-01 -3.39767159e-01 -2.37415127e-01 -1.07621784e-01\n",
            "  3.23312105e-01  1.41646654e+00 -4.93596418e-01  6.82441991e-01\n",
            "  7.07634579e-01 -1.04324102e+00 -1.20380177e-01 -4.36123794e-02\n",
            "  2.39549388e+00  1.56784663e+00 -8.57989194e-01  1.21269155e-01\n",
            " -6.71407380e-01  4.10536029e-01  2.90744167e-01 -6.55683200e-01\n",
            " -1.05558504e+00 -1.21545898e+00 -3.08704037e-01 -9.68341318e-01\n",
            " -3.57621036e-01  8.21565939e-01 -1.30941435e+00  7.13990999e-01\n",
            "  3.24798614e-01 -1.13655618e+00  2.48276866e-01 -9.63259345e-02\n",
            " -5.12272297e-01 -7.00350398e-01 -5.76388718e-01 -3.36593705e-01\n",
            "  6.66733028e-01 -2.46583161e+00 -2.05500385e-01 -1.98353329e+00\n",
            "  9.13846472e-01  7.67493904e-01  3.71992351e-01  1.11297360e+00\n",
            " -9.94689466e-01 -1.34447621e+00  3.16559053e-01 -6.45763712e-01\n",
            " -1.26430098e+00 -5.60582525e-01  1.29749154e+00  3.11301629e-01\n",
            " -6.84315064e-01  4.80267517e-01 -3.47624752e-01  1.75965098e+00\n",
            " -9.87232539e-02 -1.40590373e+00 -2.53652567e+00 -1.05069651e+00]\n"
          ]
        },
        {
          "output_type": "execute_result",
          "data": {
            "text/plain": [
              "(array([ 2.,  0.,  0.,  1.,  0.,  1.,  4.,  4.,  2.,  8.,  5., 10.,  4.,\n",
              "         7.,  5.,  2.,  7.,  9.,  2.,  6.,  5.,  1.,  5.,  3.,  4.,  0.,\n",
              "         1.,  1.,  0.,  1.]),\n",
              " array([-2.53652567, -2.37212502, -2.20772436, -2.04332371, -1.87892306,\n",
              "        -1.71452241, -1.55012176, -1.38572111, -1.22132045, -1.0569198 ,\n",
              "        -0.89251915, -0.7281185 , -0.56371785, -0.3993172 , -0.23491654,\n",
              "        -0.07051589,  0.09388476,  0.25828541,  0.42268606,  0.58708671,\n",
              "         0.75148736,  0.91588802,  1.08028867,  1.24468932,  1.40908997,\n",
              "         1.57349062,  1.73789127,  1.90229193,  2.06669258,  2.23109323,\n",
              "         2.39549388]),\n",
              " <a list of 30 Patch objects>)"
            ]
          },
          "metadata": {},
          "execution_count": 11
        },
        {
          "output_type": "display_data",
          "data": {
            "image/png": "[encoded data removed]",
            "text/plain": [
              "<Figure size 432x288 with 1 Axes>"
            ]
          },
          "metadata": {
            "needs_background": "light"
          }
        }
      ]
    },
    {
      "cell_type": "markdown",
      "metadata": {
        "id": "G0exvwBbShBE"
      },
      "source": [
        "### generate a sine curve"
      ]
    },
    {
      "cell_type": "code",
      "metadata": {
        "id": "HgQmRXzMShBE",
        "colab": {
          "base_uri": "https://localhost:8080/",
          "height": 331
        },
        "outputId": "719c46ca-08df-4a76-c3d8-92772841bb38"
      },
      "source": [
        "theta = np.linspace(0, 2*np.pi, 100) #0부터 2pi까지 100개의 값을 만들어라\n",
        "s = np.sin(theta)\n",
        "plt.plot(theta, s, 'o') #각각 100개씩 만든것을 ploting (점의 개수 100)\n",
        "print(theta.shape)\n",
        "plt.xlabel('angle(radian)')\n",
        "plt.ylabel('value')\n",
        "plt.title('my first sine curve')"
      ],
      "execution_count": 25,
      "outputs": [
        {
          "output_type": "stream",
          "name": "stdout",
          "text": [
            "(100,)\n"
          ]
        },
        {
          "output_type": "execute_result",
          "data": {
            "text/plain": [
              "Text(0.5, 1.0, 'my first sine curve')"
            ]
          },
          "metadata": {},
          "execution_count": 25
        },
        {
          "output_type": "display_data",
          "data": {
            "image/png": "[encoded data removed]",
            "text/plain": [
              "<Figure size 432x288 with 1 Axes>"
            ]
          },
          "metadata": {
            "needs_background": "light"
          }
        }
      ]
    },
    {
      "cell_type": "code",
      "metadata": {
        "id": "WTqXoomZBbBk",
        "colab": {
          "base_uri": "https://localhost:8080/",
          "height": 313
        },
        "outputId": "12fa09ff-35ce-41fe-e56f-a7bebfdc5893"
      },
      "source": [
        "theta2 = np.linspace(0, 2*np.pi, 100) + np.pi/2 #시작이 np.pi/2, 끝이 np.pi/2+2*np.pi\n",
        "s2 = np.sin(theta2) #두 곡선 phase difference(위상차) -> 90도 차이\n",
        "plt.plot(theta2, s2, '.')\n",
        "plt.xlabel('angle(radian)')\n",
        "plt.ylabel('value')\n",
        "plt.title('my first sine curve')"
      ],
      "execution_count": 28,
      "outputs": [
        {
          "output_type": "execute_result",
          "data": {
            "text/plain": [
              "Text(0.5, 1.0, 'my first sine curve')"
            ]
          },
          "metadata": {},
          "execution_count": 28
        },
        {
          "output_type": "display_data",
          "data": {
            "image/png": "[encoded data removed]",
            "text/plain": [
              "<Figure size 432x288 with 1 Axes>"
            ]
          },
          "metadata": {
            "needs_background": "light"
          }
        }
      ]
    },
    {
      "cell_type": "markdown",
      "source": [
        "지금 x축은 radian\n",
        "\n",
        "sound는 wave -> x축은 보통 시간\n",
        "\n",
        "시간으로 바꿔주어야 함 시간 개념을 sine 개념에 어떻게 부여 해줘야할까"
      ],
      "metadata": {
        "id": "XTuuqiPiscyh"
      }
    },
    {
      "cell_type": "code",
      "metadata": {
        "id": "TuH489v9BvQ7",
        "colab": {
          "base_uri": "https://localhost:8080/"
        },
        "outputId": "a1b1e9a7-3871-47da-8447-5d1b7deaeeca"
      },
      "source": [
        "np.corrcoef(s,s2) #corrcoef=r값 2by2 값 2.41915449x10의 -17승 - 0에 가깝다는 것 "
      ],
      "execution_count": null,
      "outputs": [
        {
          "output_type": "execute_result",
          "data": {
            "text/plain": [
              "array([[1.00000000e+00, 2.41915449e-17],\n",
              "       [2.41915449e-17, 1.00000000e+00]])"
            ]
          },
          "metadata": {},
          "execution_count": 54
        }
      ]
    },
    {
      "cell_type": "markdown",
      "source": [
        "왜 행렬을 주지? \n",
        "        s           s2\n",
        "s       1            0\n",
        "s2      0            1"
      ],
      "metadata": {
        "id": "BZPbJVCWA58S"
      }
    }
  ]
}