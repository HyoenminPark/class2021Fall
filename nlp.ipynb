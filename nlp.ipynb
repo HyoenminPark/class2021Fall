{
  "nbformat": 4,
  "nbformat_minor": 0,
  "metadata": {
    "kernelspec": {
      "display_name": "Python 3",
      "language": "python",
      "name": "python3"
    },
    "language_info": {
      "codemirror_mode": {
        "name": "ipython",
        "version": 3
      },
      "file_extension": ".py",
      "mimetype": "text/x-python",
      "name": "python",
      "nbconvert_exporter": "python",
      "pygments_lexer": "ipython3",
      "version": "3.7.1"
    },
    "colab": {
      "name": "nlp.ipynb",
      "provenance": [],
      "include_colab_link": true
    }
  },
  "cells": [
    {
      "cell_type": "markdown",
      "metadata": {
        "id": "view-in-github",
        "colab_type": "text"
      },
      "source": [
        "<a href=\"https://colab.research.google.com/github/HyoenminPark/class2021Fall/blob/main/nlp.ipynb\" target=\"_parent\"><img src=\"https://colab.research.google.com/assets/colab-badge.svg\" alt=\"Open In Colab\"/></a>"
      ]
    },
    {
      "cell_type": "markdown",
      "metadata": {
        "id": "ltUO0sYwyGfU"
      },
      "source": [
        "### Tokenization"
      ]
    },
    {
      "cell_type": "markdown",
      "source": [
        "텍스트가 있을 때 단어 별로 쪼개주는 것"
      ],
      "metadata": {
        "id": "Ojx49RnsW8Kd"
      }
    },
    {
      "cell_type": "code",
      "metadata": {
        "id": "di6xZ08xsgO7"
      },
      "source": [
        "import nltk"
      ],
      "execution_count": 1,
      "outputs": []
    },
    {
      "cell_type": "code",
      "metadata": {
        "id": "tbHEyyNHntcZ"
      },
      "source": [
        "text = 'Here is to the crazy ones, the misfits, the rebels, the troublemakers, the round pegs in the square holes. \\\n",
        "The ones who see things differently — they’re not fond of rules. \\\n",
        "You can quote them, disagree with them, glorify or vilify them, \\\n",
        "but the only thing you can’t do is ignore them because they change things. \\\n",
        "They push the human race forward, and while some may see them as the crazy ones, we see genius, \\\n",
        "because the ones who are crazy enough to think that they can change the world, are the ones who do.'"
      ],
      "execution_count": 2,
      "outputs": []
    },
    {
      "cell_type": "code",
      "source": [
        "print(type(text))\n",
        "print(len(text))"
      ],
      "metadata": {
        "id": "w4XkVXT8JY89",
        "outputId": "3aec42f2-7fe7-4548-9be9-30570c4e57c3",
        "colab": {
          "base_uri": "https://localhost:8080/"
        }
      },
      "execution_count": 3,
      "outputs": [
        {
          "output_type": "stream",
          "name": "stdout",
          "text": [
            "<class 'str'>\n",
            "506\n"
          ]
        }
      ]
    },
    {
      "cell_type": "code",
      "source": [
        "print(text[0:])\n",
        "print(text[0:10])\n",
        "print(text[:10])\n",
        "print(text[:])\n",
        "print(text[:-1]) #-1하면 맨끝으로 감 "
      ],
      "metadata": {
        "id": "Z7CRMm8CJhly",
        "outputId": "24eb5f91-2ba8-465e-de7d-ae6455bb14a4",
        "colab": {
          "base_uri": "https://localhost:8080/"
        }
      },
      "execution_count": null,
      "outputs": [
        {
          "output_type": "stream",
          "name": "stdout",
          "text": [
            "Here is to the crazy ones, the misfits, the rebels, the troublemakers, the round pegs in the square holes. The ones who see things differently — they’re not fond of rules. You can quote them, disagree with them, glorify or vilify them, but the only thing you can’t do is ignore them because they change things. They push the human race forward, and while some may see them as the crazy ones, we see genius, because the ones who are crazy enough to think that they can change the world, are the ones who do.\n",
            "Here is to\n",
            "Here is to\n",
            "Here is to the crazy ones, the misfits, the rebels, the troublemakers, the round pegs in the square holes. The ones who see things differently — they’re not fond of rules. You can quote them, disagree with them, glorify or vilify them, but the only thing you can’t do is ignore them because they change things. They push the human race forward, and while some may see them as the crazy ones, we see genius, because the ones who are crazy enough to think that they can change the world, are the ones who do.\n",
            "Here is to the crazy ones, the misfits, the rebels, the troublemakers, the round pegs in the square holes. The ones who see things differently — they’re not fond of rules. You can quote them, disagree with them, glorify or vilify them, but the only thing you can’t do is ignore them because they change things. They push the human race forward, and while some may see them as the crazy ones, we see genius, because the ones who are crazy enough to think that they can change the world, are the ones who do\n"
          ]
        }
      ]
    },
    {
      "cell_type": "code",
      "source": [
        "#class - 변수, 함수 포함"
      ],
      "metadata": {
        "id": "26OFwL8TK-Xj"
      },
      "execution_count": null,
      "outputs": []
    },
    {
      "cell_type": "code",
      "metadata": {
        "id": "45jV2UYs1GEC",
        "outputId": "5a5d7dc6-a315-458d-e016-a34ded5b8767",
        "colab": {
          "base_uri": "https://localhost:8080/"
        }
      },
      "source": [
        "text.split()"
      ],
      "execution_count": null,
      "outputs": [
        {
          "output_type": "execute_result",
          "data": {
            "text/plain": [
              "['Here',\n",
              " 'is',\n",
              " 'to',\n",
              " 'the',\n",
              " 'crazy',\n",
              " 'ones,',\n",
              " 'the',\n",
              " 'misfits,',\n",
              " 'the',\n",
              " 'rebels,',\n",
              " 'the',\n",
              " 'troublemakers,',\n",
              " 'the',\n",
              " 'round',\n",
              " 'pegs',\n",
              " 'in',\n",
              " 'the',\n",
              " 'square',\n",
              " 'holes.',\n",
              " 'The',\n",
              " 'ones',\n",
              " 'who',\n",
              " 'see',\n",
              " 'things',\n",
              " 'differently',\n",
              " '—',\n",
              " 'they’re',\n",
              " 'not',\n",
              " 'fond',\n",
              " 'of',\n",
              " 'rules.',\n",
              " 'You',\n",
              " 'can',\n",
              " 'quote',\n",
              " 'them,',\n",
              " 'disagree',\n",
              " 'with',\n",
              " 'them,',\n",
              " 'glorify',\n",
              " 'or',\n",
              " 'vilify',\n",
              " 'them,',\n",
              " 'but',\n",
              " 'the',\n",
              " 'only',\n",
              " 'thing',\n",
              " 'you',\n",
              " 'can’t',\n",
              " 'do',\n",
              " 'is',\n",
              " 'ignore',\n",
              " 'them',\n",
              " 'because',\n",
              " 'they',\n",
              " 'change',\n",
              " 'things.',\n",
              " 'They',\n",
              " 'push',\n",
              " 'the',\n",
              " 'human',\n",
              " 'race',\n",
              " 'forward,',\n",
              " 'and',\n",
              " 'while',\n",
              " 'some',\n",
              " 'may',\n",
              " 'see',\n",
              " 'them',\n",
              " 'as',\n",
              " 'the',\n",
              " 'crazy',\n",
              " 'ones,',\n",
              " 'we',\n",
              " 'see',\n",
              " 'genius,',\n",
              " 'because',\n",
              " 'the',\n",
              " 'ones',\n",
              " 'who',\n",
              " 'are',\n",
              " 'crazy',\n",
              " 'enough',\n",
              " 'to',\n",
              " 'think',\n",
              " 'that',\n",
              " 'they',\n",
              " 'can',\n",
              " 'change',\n",
              " 'the',\n",
              " 'world,',\n",
              " 'are',\n",
              " 'the',\n",
              " 'ones',\n",
              " 'who',\n",
              " 'do.']"
            ]
          },
          "metadata": {},
          "execution_count": 8
        }
      ]
    },
    {
      "cell_type": "code",
      "metadata": {
        "id": "NFR-cRaahTPy",
        "outputId": "9c4fca82-5559-4817-c541-5f46fc95e393",
        "colab": {
          "base_uri": "https://localhost:8080/",
          "height": 72
        }
      },
      "source": [
        "' '.join(text.split())"
      ],
      "execution_count": 4,
      "outputs": [
        {
          "output_type": "execute_result",
          "data": {
            "application/vnd.google.colaboratory.intrinsic+json": {
              "type": "string"
            },
            "text/plain": [
              "'Here is to the crazy ones, the misfits, the rebels, the troublemakers, the round pegs in the square holes. The ones who see things differently — they’re not fond of rules. You can quote them, disagree with them, glorify or vilify them, but the only thing you can’t do is ignore them because they change things. They push the human race forward, and while some may see them as the crazy ones, we see genius, because the ones who are crazy enough to think that they can change the world, are the ones who do.'"
            ]
          },
          "metadata": {},
          "execution_count": 4
        }
      ]
    },
    {
      "cell_type": "code",
      "metadata": {
        "id": "Gq_lPZMHntcb",
        "outputId": "bec3860c-1cb7-4b64-c9ab-17b96425cff9",
        "colab": {
          "base_uri": "https://localhost:8080/"
        }
      },
      "source": [
        "from nltk.tokenize import word_tokenize\n",
        "nltk.download('punkt') #functuation도 다 자름\n",
        "words = word_tokenize(text)\n",
        "words"
      ],
      "execution_count": 5,
      "outputs": [
        {
          "output_type": "stream",
          "name": "stdout",
          "text": [
            "[nltk_data] Downloading package punkt to /root/nltk_data...\n",
            "[nltk_data]   Unzipping tokenizers/punkt.zip.\n"
          ]
        },
        {
          "output_type": "execute_result",
          "data": {
            "text/plain": [
              "['Here',\n",
              " 'is',\n",
              " 'to',\n",
              " 'the',\n",
              " 'crazy',\n",
              " 'ones',\n",
              " ',',\n",
              " 'the',\n",
              " 'misfits',\n",
              " ',',\n",
              " 'the',\n",
              " 'rebels',\n",
              " ',',\n",
              " 'the',\n",
              " 'troublemakers',\n",
              " ',',\n",
              " 'the',\n",
              " 'round',\n",
              " 'pegs',\n",
              " 'in',\n",
              " 'the',\n",
              " 'square',\n",
              " 'holes',\n",
              " '.',\n",
              " 'The',\n",
              " 'ones',\n",
              " 'who',\n",
              " 'see',\n",
              " 'things',\n",
              " 'differently',\n",
              " '—',\n",
              " 'they',\n",
              " '’',\n",
              " 're',\n",
              " 'not',\n",
              " 'fond',\n",
              " 'of',\n",
              " 'rules',\n",
              " '.',\n",
              " 'You',\n",
              " 'can',\n",
              " 'quote',\n",
              " 'them',\n",
              " ',',\n",
              " 'disagree',\n",
              " 'with',\n",
              " 'them',\n",
              " ',',\n",
              " 'glorify',\n",
              " 'or',\n",
              " 'vilify',\n",
              " 'them',\n",
              " ',',\n",
              " 'but',\n",
              " 'the',\n",
              " 'only',\n",
              " 'thing',\n",
              " 'you',\n",
              " 'can',\n",
              " '’',\n",
              " 't',\n",
              " 'do',\n",
              " 'is',\n",
              " 'ignore',\n",
              " 'them',\n",
              " 'because',\n",
              " 'they',\n",
              " 'change',\n",
              " 'things',\n",
              " '.',\n",
              " 'They',\n",
              " 'push',\n",
              " 'the',\n",
              " 'human',\n",
              " 'race',\n",
              " 'forward',\n",
              " ',',\n",
              " 'and',\n",
              " 'while',\n",
              " 'some',\n",
              " 'may',\n",
              " 'see',\n",
              " 'them',\n",
              " 'as',\n",
              " 'the',\n",
              " 'crazy',\n",
              " 'ones',\n",
              " ',',\n",
              " 'we',\n",
              " 'see',\n",
              " 'genius',\n",
              " ',',\n",
              " 'because',\n",
              " 'the',\n",
              " 'ones',\n",
              " 'who',\n",
              " 'are',\n",
              " 'crazy',\n",
              " 'enough',\n",
              " 'to',\n",
              " 'think',\n",
              " 'that',\n",
              " 'they',\n",
              " 'can',\n",
              " 'change',\n",
              " 'the',\n",
              " 'world',\n",
              " ',',\n",
              " 'are',\n",
              " 'the',\n",
              " 'ones',\n",
              " 'who',\n",
              " 'do',\n",
              " '.']"
            ]
          },
          "metadata": {},
          "execution_count": 5
        }
      ]
    },
    {
      "cell_type": "code",
      "metadata": {
        "id": "RC1fe7nWF6wN",
        "colab": {
          "base_uri": "https://localhost:8080/"
        },
        "outputId": "6650d7e2-bd41-4b90-bf33-904818c0b61a"
      },
      "source": [
        "from nltk.tokenize import RegexpTokenizer #regular expression을 기반으로 한 Tokenizer\n",
        "retokenize = RegexpTokenizer(\"[\\w]+\") #이렇게하면 functuation이 다 빠짐\n",
        "#알파벳이나 숫자가 하나 이상 나오는\n",
        "words = retokenize.tokenize(text)\n",
        "words"
      ],
      "execution_count": null,
      "outputs": [
        {
          "output_type": "execute_result",
          "data": {
            "text/plain": [
              "['Moby',\n",
              " 'Dick',\n",
              " 'by',\n",
              " 'Herman',\n",
              " 'Melville',\n",
              " '1851',\n",
              " 'ETYMOLOGY',\n",
              " 'Supplied',\n",
              " 'by',\n",
              " 'a',\n",
              " 'Late',\n",
              " 'Consumptive',\n",
              " 'Usher',\n",
              " 'to',\n",
              " 'a',\n",
              " 'Grammar',\n",
              " 'School',\n",
              " 'The',\n",
              " 'pale',\n",
              " 'Usher',\n",
              " 'threadbare',\n",
              " 'in',\n",
              " 'coat',\n",
              " 'heart',\n",
              " 'body',\n",
              " 'and',\n",
              " 'brain',\n",
              " 'I',\n",
              " 'see',\n",
              " 'him',\n",
              " 'now',\n",
              " 'He',\n",
              " 'was',\n",
              " 'ever',\n",
              " 'dusting',\n",
              " 'his',\n",
              " 'old',\n",
              " 'lexicons',\n",
              " 'and',\n",
              " 'grammars',\n",
              " 'with',\n",
              " 'a',\n",
              " 'queer',\n",
              " 'handkerchief',\n",
              " 'mockingly',\n",
              " 'embellished',\n",
              " 'with',\n",
              " 'all',\n",
              " 'the',\n",
              " 'gay',\n",
              " 'flags',\n",
              " 'of',\n",
              " 'all',\n",
              " 'the',\n",
              " 'known',\n",
              " 'nations',\n",
              " 'of',\n",
              " 'the',\n",
              " 'world',\n",
              " 'He',\n",
              " 'loved',\n",
              " 'to',\n",
              " 'dust',\n",
              " 'his',\n",
              " 'old',\n",
              " 'grammars',\n",
              " 'it',\n",
              " 'somehow',\n",
              " 'mildly',\n",
              " 'reminded',\n",
              " 'him',\n",
              " 'of',\n",
              " 'his',\n",
              " 'mortality',\n",
              " 'While',\n",
              " 'you',\n",
              " 'take',\n",
              " 'in',\n",
              " 'hand',\n",
              " 'to',\n",
              " 'school',\n",
              " 'others',\n",
              " 'and',\n",
              " 'to',\n",
              " 'teach',\n",
              " 'them',\n",
              " 'by',\n",
              " 'what',\n",
              " 'name',\n",
              " 'a',\n",
              " 'whale',\n",
              " 'fish',\n",
              " 'is',\n",
              " 'to',\n",
              " 'be',\n",
              " 'called',\n",
              " 'in',\n",
              " 'our',\n",
              " 'tongue',\n",
              " 'leaving',\n",
              " 'out',\n",
              " 'through',\n",
              " 'ignorance',\n",
              " 'the',\n",
              " 'letter',\n",
              " 'H',\n",
              " 'which',\n",
              " 'almost',\n",
              " 'alone',\n",
              " 'maketh',\n",
              " 'the',\n",
              " 'signification',\n",
              " 'of',\n",
              " 'the',\n",
              " 'word',\n",
              " 'you',\n",
              " 'deliver',\n",
              " 'that',\n",
              " 'which',\n",
              " 'is',\n",
              " 'not',\n",
              " 'true',\n",
              " 'HACKLUYT',\n",
              " 'WHALE',\n",
              " 'Sw',\n",
              " 'and',\n",
              " 'Dan',\n",
              " 'HVAL',\n",
              " 'This',\n",
              " 'animal',\n",
              " 'is',\n",
              " 'named',\n",
              " 'from',\n",
              " 'roundness',\n",
              " 'or',\n",
              " 'rolling',\n",
              " 'for',\n",
              " 'in',\n",
              " 'Dan',\n",
              " 'HVALT',\n",
              " 'is',\n",
              " 'arched',\n",
              " 'or',\n",
              " 'vaulted',\n",
              " 'WEBSTER',\n",
              " 'S',\n",
              " 'DICTIONARY',\n",
              " 'WHALE',\n",
              " 'It',\n",
              " 'is',\n",
              " 'more',\n",
              " 'immediately',\n",
              " 'from',\n",
              " 'the',\n",
              " 'Dut',\n",
              " 'and',\n",
              " 'Ger',\n",
              " 'WALLEN',\n",
              " 'A',\n",
              " 'S',\n",
              " 'WALW',\n",
              " 'IAN',\n",
              " 'to',\n",
              " 'roll',\n",
              " 'to',\n",
              " 'wallow',\n",
              " 'RICHARDSON',\n",
              " 'S',\n",
              " 'DICTIONARY',\n",
              " 'KETOS',\n",
              " 'GREEK',\n",
              " 'CETUS',\n",
              " 'LATIN',\n",
              " 'WHOEL',\n",
              " 'ANGLO',\n",
              " 'SAXON',\n",
              " 'HVALT',\n",
              " 'DANISH',\n",
              " 'WAL',\n",
              " 'DUTCH',\n",
              " 'HWAL',\n",
              " 'SWEDISH',\n",
              " 'WHALE',\n",
              " 'ICELANDIC',\n",
              " 'WHALE',\n",
              " 'ENGLISH',\n",
              " 'BALEINE',\n",
              " 'FRENCH',\n",
              " 'BALLENA',\n",
              " 'SPANISH',\n",
              " 'PEKEE',\n",
              " 'NUEE',\n",
              " 'NUEE',\n",
              " 'FEGEE',\n",
              " 'PEKEE',\n",
              " 'NUEE',\n",
              " 'NUEE',\n",
              " 'ERROMANGOAN',\n",
              " 'EXTRACTS',\n",
              " 'Supplied',\n",
              " 'by',\n",
              " 'a',\n",
              " 'Sub',\n",
              " 'Sub',\n",
              " 'Librarian',\n",
              " 'It',\n",
              " 'will',\n",
              " 'be',\n",
              " 'seen',\n",
              " 'that',\n",
              " 'this',\n",
              " 'mere',\n",
              " 'painstaking',\n",
              " 'burrower',\n",
              " 'and',\n",
              " 'grub',\n",
              " 'worm',\n",
              " 'of',\n",
              " 'a',\n",
              " 'poor',\n",
              " 'devil',\n",
              " 'of',\n",
              " 'a',\n",
              " 'Sub',\n",
              " 'Sub',\n",
              " 'appears',\n",
              " 'to',\n",
              " 'have',\n",
              " 'gone',\n",
              " 'through',\n",
              " 'the',\n",
              " 'long',\n",
              " 'Vaticans',\n",
              " 'and',\n",
              " 'street',\n",
              " 'stalls',\n",
              " 'of',\n",
              " 'the',\n",
              " 'earth',\n",
              " 'picking',\n",
              " 'up',\n",
              " 'whatever',\n",
              " 'random',\n",
              " 'allusions',\n",
              " 'to',\n",
              " 'whales',\n",
              " 'he',\n",
              " 'could',\n",
              " 'anyways',\n",
              " 'find',\n",
              " 'in',\n",
              " 'any',\n",
              " 'book',\n",
              " 'whatsoever',\n",
              " 'sacred',\n",
              " 'or',\n",
              " 'profane',\n",
              " 'Therefore',\n",
              " 'you',\n",
              " 'must',\n",
              " 'not',\n",
              " 'in',\n",
              " 'every',\n",
              " 'case',\n",
              " 'at',\n",
              " 'least',\n",
              " 'take',\n",
              " 'the',\n",
              " 'higgledy',\n",
              " 'piggledy',\n",
              " 'whale',\n",
              " 'statements',\n",
              " 'however',\n",
              " 'authentic',\n",
              " 'in',\n",
              " 'these',\n",
              " 'extracts',\n",
              " 'for',\n",
              " 'veritable',\n",
              " 'gospel',\n",
              " 'cetology',\n",
              " 'Far',\n",
              " 'from',\n",
              " 'it',\n",
              " 'As',\n",
              " 'touching',\n",
              " 'the',\n",
              " 'ancient',\n",
              " 'authors',\n",
              " 'generally',\n",
              " 'as',\n",
              " 'well',\n",
              " 'as',\n",
              " 'the',\n",
              " 'poets',\n",
              " 'here',\n",
              " 'appearing',\n",
              " 'these',\n",
              " 'extracts',\n",
              " 'are',\n",
              " 'solely',\n",
              " 'valuable',\n",
              " 'or',\n",
              " 'entertaining',\n",
              " 'as',\n",
              " 'affording',\n",
              " 'a',\n",
              " 'glancing',\n",
              " 'bird',\n",
              " 's',\n",
              " 'eye',\n",
              " 'view',\n",
              " 'of',\n",
              " 'what',\n",
              " 'has',\n",
              " 'been',\n",
              " 'promiscuously',\n",
              " 'said',\n",
              " 'thought',\n",
              " 'fancied',\n",
              " 'and',\n",
              " 'sung',\n",
              " 'of',\n",
              " 'Leviathan',\n",
              " 'by',\n",
              " 'many',\n",
              " 'nations',\n",
              " 'and',\n",
              " 'generations',\n",
              " 'including',\n",
              " 'our',\n",
              " 'own',\n",
              " 'So',\n",
              " 'fare',\n",
              " 'thee',\n",
              " 'well',\n",
              " 'poor',\n",
              " 'devil',\n",
              " 'of',\n",
              " 'a',\n",
              " 'Sub',\n",
              " 'Sub',\n",
              " 'whose',\n",
              " 'commentator',\n",
              " 'I',\n",
              " 'am',\n",
              " 'Thou',\n",
              " 'belongest',\n",
              " 'to',\n",
              " 'that',\n",
              " 'hopeless',\n",
              " 'sallow',\n",
              " 'tribe',\n",
              " 'which',\n",
              " 'no',\n",
              " 'wine',\n",
              " 'of',\n",
              " 'this',\n",
              " 'world',\n",
              " 'will',\n",
              " 'ever',\n",
              " 'warm',\n",
              " 'and',\n",
              " 'for',\n",
              " 'whom',\n",
              " 'even',\n",
              " 'Pale',\n",
              " 'Sherry',\n",
              " 'would',\n",
              " 'be',\n",
              " 'too',\n",
              " 'rosy',\n",
              " 'strong',\n",
              " 'but',\n",
              " 'with',\n",
              " 'whom',\n",
              " 'one',\n",
              " 'sometimes',\n",
              " 'loves',\n",
              " 'to',\n",
              " 'sit',\n",
              " 'and',\n",
              " 'feel',\n",
              " 'poor',\n",
              " 'devilish',\n",
              " 'too',\n",
              " 'and',\n",
              " 'grow',\n",
              " 'convivial',\n",
              " 'upon',\n",
              " 'tears',\n",
              " 'and',\n",
              " 'say',\n",
              " 'to',\n",
              " 'them',\n",
              " 'bluntly',\n",
              " 'with',\n",
              " 'full',\n",
              " 'eyes',\n",
              " 'and',\n",
              " 'empty',\n",
              " 'glasses',\n",
              " 'and',\n",
              " 'in',\n",
              " 'not',\n",
              " 'altogether',\n",
              " 'unpleasant',\n",
              " 'sadness',\n",
              " 'Give',\n",
              " 'it',\n",
              " 'up',\n",
              " 'Sub',\n",
              " 'Subs',\n",
              " 'For',\n",
              " 'by',\n",
              " 'how',\n",
              " 'much',\n",
              " 'the',\n",
              " 'more',\n",
              " 'pains',\n",
              " 'ye',\n",
              " 'take',\n",
              " 'to',\n",
              " 'please',\n",
              " 'the',\n",
              " 'world',\n",
              " 'by',\n",
              " 'so',\n",
              " 'much',\n",
              " 'the',\n",
              " 'more',\n",
              " 'shall',\n",
              " 'ye',\n",
              " 'for',\n",
              " 'ever',\n",
              " 'go',\n",
              " 'thankless',\n",
              " 'Would',\n",
              " 'that',\n",
              " 'I',\n",
              " 'could',\n",
              " 'clear',\n",
              " 'out',\n",
              " 'Hampton',\n",
              " 'Court',\n",
              " 'and',\n",
              " 'the',\n",
              " 'Tuileries',\n",
              " 'for',\n",
              " 'ye',\n",
              " 'But',\n",
              " 'gulp',\n",
              " 'down',\n",
              " 'your',\n",
              " 'tears',\n",
              " 'and',\n",
              " 'hie',\n",
              " 'aloft',\n",
              " 'to',\n",
              " 'the',\n",
              " 'royal',\n",
              " 'mast',\n",
              " 'with',\n",
              " 'your',\n",
              " 'hearts',\n",
              " 'for',\n",
              " 'your',\n",
              " 'friends',\n",
              " 'who',\n",
              " 'have',\n",
              " 'gone',\n",
              " 'before',\n",
              " 'are',\n",
              " 'clearing',\n",
              " 'out',\n",
              " 'the',\n",
              " 'seven',\n",
              " 'storied',\n",
              " 'heavens',\n",
              " 'and',\n",
              " 'making',\n",
              " 'refugees',\n",
              " 'of',\n",
              " 'long',\n",
              " 'pampered',\n",
              " 'Gabriel',\n",
              " 'Michael',\n",
              " 'and',\n",
              " 'Raphael',\n",
              " 'against',\n",
              " 'your',\n",
              " 'coming',\n",
              " 'Here',\n",
              " 'ye',\n",
              " 'strike',\n",
              " 'but',\n",
              " 'splintered',\n",
              " 'hearts',\n",
              " 'together',\n",
              " 'there',\n",
              " 'ye',\n",
              " 'shall',\n",
              " 'strike',\n",
              " 'unsplinterable',\n",
              " 'glasses',\n",
              " 'EXTRACTS',\n",
              " 'And',\n",
              " 'God',\n",
              " 'created',\n",
              " 'great',\n",
              " 'whales',\n",
              " 'GENESIS',\n",
              " 'Leviathan',\n",
              " 'maketh',\n",
              " 'a',\n",
              " 'path',\n",
              " 'to',\n",
              " 'shine',\n",
              " 'after',\n",
              " 'him',\n",
              " 'One',\n",
              " 'would',\n",
              " 'think',\n",
              " 'the',\n",
              " 'deep',\n",
              " 'to',\n",
              " 'be',\n",
              " 'hoary',\n",
              " 'JOB',\n",
              " 'Now',\n",
              " 'the',\n",
              " 'Lord',\n",
              " 'had',\n",
              " 'prepared',\n",
              " 'a',\n",
              " 'great',\n",
              " 'fish',\n",
              " 'to',\n",
              " 'swallow',\n",
              " 'up',\n",
              " 'Jonah',\n",
              " 'JONAH',\n",
              " 'There',\n",
              " 'go',\n",
              " 'the',\n",
              " 'ships',\n",
              " 'there',\n",
              " 'is',\n",
              " 'that',\n",
              " 'Leviathan',\n",
              " 'whom',\n",
              " 'thou',\n",
              " 'hast',\n",
              " 'made',\n",
              " 'to',\n",
              " 'play',\n",
              " 'therein',\n",
              " 'PSALMS',\n",
              " 'In',\n",
              " 'that',\n",
              " 'day',\n",
              " 'the',\n",
              " 'Lord',\n",
              " 'with',\n",
              " 'his',\n",
              " 'sore',\n",
              " 'and',\n",
              " 'great',\n",
              " 'and',\n",
              " 'strong',\n",
              " 'sword',\n",
              " 'shall',\n",
              " 'punish',\n",
              " 'Leviathan',\n",
              " 'the',\n",
              " 'piercing',\n",
              " 'serpent',\n",
              " 'even',\n",
              " 'Leviathan',\n",
              " 'that',\n",
              " 'crooked',\n",
              " 'serpent',\n",
              " 'and',\n",
              " 'he',\n",
              " 'shall',\n",
              " 'slay',\n",
              " 'the',\n",
              " 'dragon',\n",
              " 'that',\n",
              " 'is',\n",
              " 'in',\n",
              " 'the',\n",
              " 'sea',\n",
              " 'ISAIAH',\n",
              " 'And',\n",
              " 'what',\n",
              " 'thing',\n",
              " 'soever',\n",
              " 'besides',\n",
              " 'cometh',\n",
              " 'within',\n",
              " 'the',\n",
              " 'chaos',\n",
              " 'of',\n",
              " 'this',\n",
              " 'monster',\n",
              " 's',\n",
              " 'mouth',\n",
              " 'be',\n",
              " 'it',\n",
              " 'beast',\n",
              " 'boat',\n",
              " 'or',\n",
              " 'stone',\n",
              " 'down',\n",
              " 'it',\n",
              " 'goes',\n",
              " 'all',\n",
              " 'incontinently',\n",
              " 'that',\n",
              " 'foul',\n",
              " 'great',\n",
              " 'swallow',\n",
              " 'of',\n",
              " 'his',\n",
              " 'and',\n",
              " 'perisheth',\n",
              " 'in',\n",
              " 'the',\n",
              " 'bottomless',\n",
              " 'gulf',\n",
              " 'of',\n",
              " 'his',\n",
              " 'paunch',\n",
              " 'HOLLAND',\n",
              " 'S',\n",
              " 'PLUTARCH',\n",
              " 'S',\n",
              " 'MORALS',\n",
              " 'The',\n",
              " 'Indian',\n",
              " 'Sea',\n",
              " 'breedeth',\n",
              " 'the',\n",
              " 'most',\n",
              " 'and',\n",
              " 'the',\n",
              " 'biggest',\n",
              " 'fishes',\n",
              " 'that',\n",
              " 'are',\n",
              " 'among',\n",
              " 'which',\n",
              " 'the',\n",
              " 'Whales',\n",
              " 'and',\n",
              " 'Whirlpooles',\n",
              " 'called',\n",
              " 'Balaene',\n",
              " 'take',\n",
              " 'up',\n",
              " 'as',\n",
              " 'much',\n",
              " 'in',\n",
              " 'length',\n",
              " 'as',\n",
              " 'four',\n",
              " 'acres',\n",
              " 'or',\n",
              " 'arpens',\n",
              " 'of',\n",
              " 'land',\n",
              " 'HOLLAND',\n",
              " 'S',\n",
              " 'PLINY',\n",
              " 'Scarcely',\n",
              " 'had',\n",
              " 'we',\n",
              " 'proceeded',\n",
              " 'two',\n",
              " 'days',\n",
              " 'on',\n",
              " 'the',\n",
              " 'sea',\n",
              " 'when',\n",
              " 'about',\n",
              " 'sunrise',\n",
              " 'a',\n",
              " 'great',\n",
              " 'many',\n",
              " 'Whales',\n",
              " 'and',\n",
              " 'other',\n",
              " 'monsters',\n",
              " 'of',\n",
              " 'the',\n",
              " 'sea',\n",
              " 'appeared',\n",
              " 'Among',\n",
              " 'the',\n",
              " 'former',\n",
              " 'one',\n",
              " 'was',\n",
              " 'of',\n",
              " 'a',\n",
              " 'most',\n",
              " 'monstrous',\n",
              " 'size',\n",
              " 'This',\n",
              " 'came',\n",
              " 'towards',\n",
              " 'us',\n",
              " 'open',\n",
              " 'mouthed',\n",
              " 'raising',\n",
              " 'the',\n",
              " 'waves',\n",
              " 'on',\n",
              " 'all',\n",
              " 'sides',\n",
              " 'and',\n",
              " 'beating',\n",
              " 'the',\n",
              " 'sea',\n",
              " 'before',\n",
              " 'him',\n",
              " 'into',\n",
              " 'a',\n",
              " 'foam',\n",
              " 'TOOKE',\n",
              " 'S',\n",
              " 'LUCIAN',\n",
              " 'THE',\n",
              " 'TRUE',\n",
              " 'HISTORY',\n",
              " 'He',\n",
              " 'visited',\n",
              " 'this',\n",
              " 'country',\n",
              " 'also',\n",
              " 'with',\n",
              " 'a',\n",
              " 'view',\n",
              " 'of',\n",
              " 'catching',\n",
              " 'horse',\n",
              " 'whales',\n",
              " 'which',\n",
              " 'had',\n",
              " 'bones',\n",
              " 'of',\n",
              " 'very',\n",
              " 'great',\n",
              " 'value',\n",
              " 'for',\n",
              " 'their',\n",
              " 'teeth',\n",
              " 'of',\n",
              " 'which',\n",
              " 'he',\n",
              " 'brought',\n",
              " 'some',\n",
              " 'to',\n",
              " 'the',\n",
              " 'king',\n",
              " 'The',\n",
              " 'best',\n",
              " 'whales',\n",
              " 'were',\n",
              " 'catched',\n",
              " 'in',\n",
              " 'his',\n",
              " 'own',\n",
              " 'country',\n",
              " 'of',\n",
              " 'which',\n",
              " 'some',\n",
              " 'were',\n",
              " 'forty',\n",
              " 'eight',\n",
              " 'some',\n",
              " 'fifty',\n",
              " 'yards',\n",
              " 'long',\n",
              " 'He',\n",
              " 'said',\n",
              " 'that',\n",
              " 'he',\n",
              " 'was',\n",
              " 'one',\n",
              " 'of',\n",
              " 'six',\n",
              " 'who',\n",
              " 'had',\n",
              " 'killed',\n",
              " 'sixty',\n",
              " 'in',\n",
              " 'two',\n",
              " 'days',\n",
              " 'OTHER',\n",
              " 'OR',\n",
              " 'OCTHER',\n",
              " 'S',\n",
              " 'VERBAL',\n",
              " 'NARRATIVE',\n",
              " 'TAKEN',\n",
              " 'DOWN',\n",
              " 'FROM',\n",
              " 'HIS',\n",
              " 'MOUTH',\n",
              " 'BY',\n",
              " 'KING',\n",
              " 'ALFRED',\n",
              " 'A',\n",
              " 'D',\n",
              " '890',\n",
              " 'And',\n",
              " 'whereas',\n",
              " 'all',\n",
              " 'the',\n",
              " 'other',\n",
              " 'things',\n",
              " 'whether',\n",
              " 'beast',\n",
              " 'or',\n",
              " 'vessel',\n",
              " 'that',\n",
              " 'enter',\n",
              " 'into',\n",
              " 'the',\n",
              " 'dreadful',\n",
              " 'gulf',\n",
              " 'of',\n",
              " 'this',\n",
              " 'monster',\n",
              " 's',\n",
              " 'whale',\n",
              " 's',\n",
              " 'mouth',\n",
              " 'are',\n",
              " 'immediately',\n",
              " 'lost',\n",
              " 'and',\n",
              " 'swallowed',\n",
              " 'up',\n",
              " 'the',\n",
              " 'sea',\n",
              " 'gudgeon',\n",
              " 'retires',\n",
              " 'into',\n",
              " 'it',\n",
              " 'in',\n",
              " 'great',\n",
              " 'security',\n",
              " 'and',\n",
              " 'there',\n",
              " 'sleeps',\n",
              " 'MONTAIGNE',\n",
              " 'APOLOGY',\n",
              " 'FOR',\n",
              " 'RAIMOND',\n",
              " 'SEBOND',\n",
              " 'Let',\n",
              " 'us',\n",
              " 'fly',\n",
              " 'let',\n",
              " 'us',\n",
              " 'fly',\n",
              " 'Old',\n",
              " 'Nick',\n",
              " 'take',\n",
              " 'me',\n",
              " 'if',\n",
              " 'is',\n",
              " 'not',\n",
              " 'Leviathan',\n",
              " 'described',\n",
              " 'by',\n",
              " 'the',\n",
              " 'noble',\n",
              " 'prophet',\n",
              " 'Moses',\n",
              " 'in',\n",
              " 'the',\n",
              " 'life',\n",
              " 'of',\n",
              " 'patient',\n",
              " 'Job',\n",
              " 'RABELAIS',\n",
              " 'This',\n",
              " 'whale',\n",
              " 's',\n",
              " 'liver',\n",
              " 'was',\n",
              " 'two',\n",
              " 'cartloads',\n",
              " 'STOWE',\n",
              " 'S',\n",
              " 'ANNALS',\n",
              " 'The',\n",
              " 'great',\n",
              " 'Leviathan',\n",
              " 'that',\n",
              " 'maketh',\n",
              " 'the',\n",
              " 'seas',\n",
              " 'to',\n",
              " 'seethe',\n",
              " 'like',\n",
              " 'boiling',\n",
              " 'pan',\n",
              " 'LORD',\n",
              " 'BACON',\n",
              " 'S',\n",
              " 'VERSION',\n",
              " 'OF',\n",
              " 'THE',\n",
              " 'PSALMS',\n",
              " 'Touching',\n",
              " 'that',\n",
              " 'monstrous',\n",
              " 'bulk',\n",
              " 'of',\n",
              " 'the',\n",
              " 'whale',\n",
              " 'or',\n",
              " 'ork',\n",
              " 'we',\n",
              " 'have',\n",
              " 'received',\n",
              " 'nothing',\n",
              " 'certain',\n",
              " 'They',\n",
              " 'grow',\n",
              " 'exceeding',\n",
              " 'fat',\n",
              " 'insomuch',\n",
              " 'that',\n",
              " 'an',\n",
              " 'incredible',\n",
              " 'quantity',\n",
              " 'of',\n",
              " 'oil',\n",
              " 'will',\n",
              " 'be',\n",
              " 'extracted',\n",
              " 'out',\n",
              " 'of',\n",
              " 'one',\n",
              " 'whale',\n",
              " 'IBID',\n",
              " 'HISTORY',\n",
              " 'OF',\n",
              " 'LIFE',\n",
              " 'AND',\n",
              " 'DEATH',\n",
              " 'The',\n",
              " 'sovereignest',\n",
              " 'thing',\n",
              " 'on',\n",
              " 'earth',\n",
              " 'is',\n",
              " 'parmacetti',\n",
              " 'for',\n",
              " 'an',\n",
              " 'inward',\n",
              " 'bruise',\n",
              " 'KING',\n",
              " 'HENRY',\n",
              " 'Very',\n",
              " 'like',\n",
              " 'a',\n",
              " 'whale',\n",
              " 'HAMLET',\n",
              " 'Which',\n",
              " 'to',\n",
              " 'secure',\n",
              " 'no',\n",
              " 'skill',\n",
              " 'of',\n",
              " 'leach',\n",
              " 's',\n",
              " 'art',\n",
              " 'Mote',\n",
              " 'him',\n",
              " 'availle',\n",
              " 'but',\n",
              " 'to',\n",
              " 'returne',\n",
              " 'againe',\n",
              " 'To',\n",
              " 'his',\n",
              " 'wound',\n",
              " 's',\n",
              " 'worker',\n",
              " 'that',\n",
              " 'with',\n",
              " 'lowly',\n",
              " 'dart',\n",
              " 'Dinting',\n",
              " ...]"
            ]
          },
          "metadata": {},
          "execution_count": 59
        }
      ]
    },
    {
      "cell_type": "code",
      "source": [
        "words"
      ],
      "metadata": {
        "id": "i_NhhAewssly",
        "outputId": "50dfbf89-91a8-43b2-fd7d-c0cb46a91c3e",
        "colab": {
          "base_uri": "https://localhost:8080/"
        }
      },
      "execution_count": null,
      "outputs": [
        {
          "output_type": "execute_result",
          "data": {
            "text/plain": [
              "['Here',\n",
              " 'is',\n",
              " 'to',\n",
              " 'the',\n",
              " 'crazy',\n",
              " 'ones',\n",
              " 'the',\n",
              " 'misfits',\n",
              " 'the',\n",
              " 'rebels',\n",
              " 'the',\n",
              " 'troublemakers',\n",
              " 'the',\n",
              " 'round',\n",
              " 'pegs',\n",
              " 'in',\n",
              " 'the',\n",
              " 'square',\n",
              " 'holes',\n",
              " 'The',\n",
              " 'ones',\n",
              " 'who',\n",
              " 'see',\n",
              " 'things',\n",
              " 'differently',\n",
              " 'they',\n",
              " 're',\n",
              " 'not',\n",
              " 'fond',\n",
              " 'of',\n",
              " 'rules',\n",
              " 'You',\n",
              " 'can',\n",
              " 'quote',\n",
              " 'them',\n",
              " 'disagree',\n",
              " 'with',\n",
              " 'them',\n",
              " 'glorify',\n",
              " 'or',\n",
              " 'vilify',\n",
              " 'them',\n",
              " 'but',\n",
              " 'the',\n",
              " 'only',\n",
              " 'thing',\n",
              " 'you',\n",
              " 'can',\n",
              " 't',\n",
              " 'do',\n",
              " 'is',\n",
              " 'ignore',\n",
              " 'them',\n",
              " 'because',\n",
              " 'they',\n",
              " 'change',\n",
              " 'things',\n",
              " 'They',\n",
              " 'push',\n",
              " 'the',\n",
              " 'human',\n",
              " 'race',\n",
              " 'forward',\n",
              " 'and',\n",
              " 'while',\n",
              " 'some',\n",
              " 'may',\n",
              " 'see',\n",
              " 'them',\n",
              " 'as',\n",
              " 'the',\n",
              " 'crazy',\n",
              " 'ones',\n",
              " 'we',\n",
              " 'see',\n",
              " 'genius',\n",
              " 'because',\n",
              " 'the',\n",
              " 'ones',\n",
              " 'who',\n",
              " 'are',\n",
              " 'crazy',\n",
              " 'enough',\n",
              " 'to',\n",
              " 'think',\n",
              " 'that',\n",
              " 'they',\n",
              " 'can',\n",
              " 'change',\n",
              " 'the',\n",
              " 'world',\n",
              " 'are',\n",
              " 'the',\n",
              " 'ones',\n",
              " 'who',\n",
              " 'do']"
            ]
          },
          "metadata": {},
          "execution_count": 11
        }
      ]
    },
    {
      "cell_type": "markdown",
      "metadata": {
        "id": "Pc42Plwx56YS"
      },
      "source": [
        "### Normalization  \n",
        "Stemming: am → am, the going → the go, having → hav  (활용 이전으로 그냥 끊어주는거, 불필요한 부분을 잘라내기도 함)\n",
        "Lemmatization: am → be, the going → the going, having → have (원형으로!)"
      ]
    },
    {
      "cell_type": "code",
      "metadata": {
        "id": "lsFfoAr259Fs",
        "outputId": "a0a4e0ad-6b52-4548-92d4-8529036cc30d",
        "colab": {
          "base_uri": "https://localhost:8080/"
        }
      },
      "source": [
        "from nltk.stem import PorterStemmer\n",
        "stemmer = PorterStemmer() #string에 적용\n",
        "#print(stemmer.stem(words[0]))\n",
        "#print(stemmer.stem('having'))\n",
        "[stemmer.stem(w) for w in words] #words의 숫자만큼 for 루프를 돌건데 그거를 w로 받아라"
      ],
      "execution_count": 6,
      "outputs": [
        {
          "output_type": "execute_result",
          "data": {
            "text/plain": [
              "['here',\n",
              " 'is',\n",
              " 'to',\n",
              " 'the',\n",
              " 'crazi',\n",
              " 'one',\n",
              " ',',\n",
              " 'the',\n",
              " 'misfit',\n",
              " ',',\n",
              " 'the',\n",
              " 'rebel',\n",
              " ',',\n",
              " 'the',\n",
              " 'troublemak',\n",
              " ',',\n",
              " 'the',\n",
              " 'round',\n",
              " 'peg',\n",
              " 'in',\n",
              " 'the',\n",
              " 'squar',\n",
              " 'hole',\n",
              " '.',\n",
              " 'the',\n",
              " 'one',\n",
              " 'who',\n",
              " 'see',\n",
              " 'thing',\n",
              " 'differ',\n",
              " '—',\n",
              " 'they',\n",
              " '’',\n",
              " 're',\n",
              " 'not',\n",
              " 'fond',\n",
              " 'of',\n",
              " 'rule',\n",
              " '.',\n",
              " 'you',\n",
              " 'can',\n",
              " 'quot',\n",
              " 'them',\n",
              " ',',\n",
              " 'disagre',\n",
              " 'with',\n",
              " 'them',\n",
              " ',',\n",
              " 'glorifi',\n",
              " 'or',\n",
              " 'vilifi',\n",
              " 'them',\n",
              " ',',\n",
              " 'but',\n",
              " 'the',\n",
              " 'onli',\n",
              " 'thing',\n",
              " 'you',\n",
              " 'can',\n",
              " '’',\n",
              " 't',\n",
              " 'do',\n",
              " 'is',\n",
              " 'ignor',\n",
              " 'them',\n",
              " 'becaus',\n",
              " 'they',\n",
              " 'chang',\n",
              " 'thing',\n",
              " '.',\n",
              " 'they',\n",
              " 'push',\n",
              " 'the',\n",
              " 'human',\n",
              " 'race',\n",
              " 'forward',\n",
              " ',',\n",
              " 'and',\n",
              " 'while',\n",
              " 'some',\n",
              " 'may',\n",
              " 'see',\n",
              " 'them',\n",
              " 'as',\n",
              " 'the',\n",
              " 'crazi',\n",
              " 'one',\n",
              " ',',\n",
              " 'we',\n",
              " 'see',\n",
              " 'geniu',\n",
              " ',',\n",
              " 'becaus',\n",
              " 'the',\n",
              " 'one',\n",
              " 'who',\n",
              " 'are',\n",
              " 'crazi',\n",
              " 'enough',\n",
              " 'to',\n",
              " 'think',\n",
              " 'that',\n",
              " 'they',\n",
              " 'can',\n",
              " 'chang',\n",
              " 'the',\n",
              " 'world',\n",
              " ',',\n",
              " 'are',\n",
              " 'the',\n",
              " 'one',\n",
              " 'who',\n",
              " 'do',\n",
              " '.']"
            ]
          },
          "metadata": {},
          "execution_count": 6
        }
      ]
    },
    {
      "cell_type": "code",
      "metadata": {
        "id": "HkbgNiPd8BdL",
        "outputId": "b82d2c10-ca40-4620-dfda-92bebecc749c",
        "colab": {
          "base_uri": "https://localhost:8080/"
        }
      },
      "source": [
        "from nltk.stem import LancasterStemmer\n",
        "stemmer = LancasterStemmer()\n",
        "[stemmer.stem(w) for w in words]"
      ],
      "execution_count": 7,
      "outputs": [
        {
          "output_type": "execute_result",
          "data": {
            "text/plain": [
              "['her',\n",
              " 'is',\n",
              " 'to',\n",
              " 'the',\n",
              " 'crazy',\n",
              " 'on',\n",
              " ',',\n",
              " 'the',\n",
              " 'misfit',\n",
              " ',',\n",
              " 'the',\n",
              " 'rebel',\n",
              " ',',\n",
              " 'the',\n",
              " 'troublemak',\n",
              " ',',\n",
              " 'the',\n",
              " 'round',\n",
              " 'peg',\n",
              " 'in',\n",
              " 'the',\n",
              " 'squ',\n",
              " 'hol',\n",
              " '.',\n",
              " 'the',\n",
              " 'on',\n",
              " 'who',\n",
              " 'see',\n",
              " 'thing',\n",
              " 'diff',\n",
              " '—',\n",
              " 'they',\n",
              " '’',\n",
              " 're',\n",
              " 'not',\n",
              " 'fond',\n",
              " 'of',\n",
              " 'rul',\n",
              " '.',\n",
              " 'you',\n",
              " 'can',\n",
              " 'quot',\n",
              " 'them',\n",
              " ',',\n",
              " 'disagr',\n",
              " 'with',\n",
              " 'them',\n",
              " ',',\n",
              " 'glor',\n",
              " 'or',\n",
              " 'vil',\n",
              " 'them',\n",
              " ',',\n",
              " 'but',\n",
              " 'the',\n",
              " 'on',\n",
              " 'thing',\n",
              " 'you',\n",
              " 'can',\n",
              " '’',\n",
              " 't',\n",
              " 'do',\n",
              " 'is',\n",
              " 'ign',\n",
              " 'them',\n",
              " 'becaus',\n",
              " 'they',\n",
              " 'chang',\n",
              " 'thing',\n",
              " '.',\n",
              " 'they',\n",
              " 'push',\n",
              " 'the',\n",
              " 'hum',\n",
              " 'rac',\n",
              " 'forward',\n",
              " ',',\n",
              " 'and',\n",
              " 'whil',\n",
              " 'som',\n",
              " 'may',\n",
              " 'see',\n",
              " 'them',\n",
              " 'as',\n",
              " 'the',\n",
              " 'crazy',\n",
              " 'on',\n",
              " ',',\n",
              " 'we',\n",
              " 'see',\n",
              " 'geni',\n",
              " ',',\n",
              " 'becaus',\n",
              " 'the',\n",
              " 'on',\n",
              " 'who',\n",
              " 'ar',\n",
              " 'crazy',\n",
              " 'enough',\n",
              " 'to',\n",
              " 'think',\n",
              " 'that',\n",
              " 'they',\n",
              " 'can',\n",
              " 'chang',\n",
              " 'the',\n",
              " 'world',\n",
              " ',',\n",
              " 'ar',\n",
              " 'the',\n",
              " 'on',\n",
              " 'who',\n",
              " 'do',\n",
              " '.']"
            ]
          },
          "metadata": {},
          "execution_count": 7
        }
      ]
    },
    {
      "cell_type": "code",
      "metadata": {
        "id": "VIIh5pYd8f74",
        "outputId": "8c342699-6db0-478a-fa10-9e1ea1d6e10f",
        "colab": {
          "base_uri": "https://localhost:8080/"
        }
      },
      "source": [
        "from nltk.stem import WordNetLemmatizer\n",
        "nltk.download('wordnet')\n",
        "lemmatizer = WordNetLemmatizer()\n",
        "[lemmatizer.lemmatize(w) for w in words]"
      ],
      "execution_count": null,
      "outputs": [
        {
          "output_type": "stream",
          "name": "stdout",
          "text": [
            "[nltk_data] Downloading package wordnet to /root/nltk_data...\n",
            "[nltk_data]   Unzipping corpora/wordnet.zip.\n"
          ]
        },
        {
          "output_type": "execute_result",
          "data": {
            "text/plain": [
              "['Here',\n",
              " 'is',\n",
              " 'to',\n",
              " 'the',\n",
              " 'crazy',\n",
              " 'one',\n",
              " 'the',\n",
              " 'misfit',\n",
              " 'the',\n",
              " 'rebel',\n",
              " 'the',\n",
              " 'troublemaker',\n",
              " 'the',\n",
              " 'round',\n",
              " 'peg',\n",
              " 'in',\n",
              " 'the',\n",
              " 'square',\n",
              " 'hole',\n",
              " 'The',\n",
              " 'one',\n",
              " 'who',\n",
              " 'see',\n",
              " 'thing',\n",
              " 'differently',\n",
              " 'they',\n",
              " 're',\n",
              " 'not',\n",
              " 'fond',\n",
              " 'of',\n",
              " 'rule',\n",
              " 'You',\n",
              " 'can',\n",
              " 'quote',\n",
              " 'them',\n",
              " 'disagree',\n",
              " 'with',\n",
              " 'them',\n",
              " 'glorify',\n",
              " 'or',\n",
              " 'vilify',\n",
              " 'them',\n",
              " 'but',\n",
              " 'the',\n",
              " 'only',\n",
              " 'thing',\n",
              " 'you',\n",
              " 'can',\n",
              " 't',\n",
              " 'do',\n",
              " 'is',\n",
              " 'ignore',\n",
              " 'them',\n",
              " 'because',\n",
              " 'they',\n",
              " 'change',\n",
              " 'thing',\n",
              " 'They',\n",
              " 'push',\n",
              " 'the',\n",
              " 'human',\n",
              " 'race',\n",
              " 'forward',\n",
              " 'and',\n",
              " 'while',\n",
              " 'some',\n",
              " 'may',\n",
              " 'see',\n",
              " 'them',\n",
              " 'a',\n",
              " 'the',\n",
              " 'crazy',\n",
              " 'one',\n",
              " 'we',\n",
              " 'see',\n",
              " 'genius',\n",
              " 'because',\n",
              " 'the',\n",
              " 'one',\n",
              " 'who',\n",
              " 'are',\n",
              " 'crazy',\n",
              " 'enough',\n",
              " 'to',\n",
              " 'think',\n",
              " 'that',\n",
              " 'they',\n",
              " 'can',\n",
              " 'change',\n",
              " 'the',\n",
              " 'world',\n",
              " 'are',\n",
              " 'the',\n",
              " 'one',\n",
              " 'who',\n",
              " 'do']"
            ]
          },
          "metadata": {},
          "execution_count": 14
        }
      ]
    },
    {
      "cell_type": "markdown",
      "metadata": {
        "id": "RPgIzrjm8_1N"
      },
      "source": [
        "### Stopword"
      ]
    },
    {
      "cell_type": "markdown",
      "source": [
        "너무 자주 나와서 필요없는 단어들을 빼겠다! CONSIDER하는 것을 stop 하겠다"
      ],
      "metadata": {
        "id": "bilc-qzTXGen"
      }
    },
    {
      "cell_type": "code",
      "metadata": {
        "id": "WdM2FaN8ntcc",
        "outputId": "e77f96f6-204c-40f9-d820-5f90a2240206",
        "colab": {
          "base_uri": "https://localhost:8080/"
        }
      },
      "source": [
        "from nltk.corpus import stopwords  #stopwords-> 너무 빈번하게 쓰이는 (전치사, 대명사 등) 단어는 이미 담겨 있음\n",
        "nltk.download('stopwords')\n",
        "print(words)\n",
        "words = [w for w in words if not w in stopwords.words('english')]\n",
        "#tokenize한 words를 list인데 for루프를 돌릴 거고 w로 받을 것이다 \n",
        "#근데 if 를 만족시켜야 한다 stopwords에 들어있지 않은 w를 출력해라\n",
        "print(words)"
      ],
      "execution_count": 8,
      "outputs": [
        {
          "output_type": "stream",
          "name": "stdout",
          "text": [
            "[nltk_data] Downloading package stopwords to /root/nltk_data...\n",
            "[nltk_data]   Unzipping corpora/stopwords.zip.\n",
            "['Here', 'is', 'to', 'the', 'crazy', 'ones', ',', 'the', 'misfits', ',', 'the', 'rebels', ',', 'the', 'troublemakers', ',', 'the', 'round', 'pegs', 'in', 'the', 'square', 'holes', '.', 'The', 'ones', 'who', 'see', 'things', 'differently', '—', 'they', '’', 're', 'not', 'fond', 'of', 'rules', '.', 'You', 'can', 'quote', 'them', ',', 'disagree', 'with', 'them', ',', 'glorify', 'or', 'vilify', 'them', ',', 'but', 'the', 'only', 'thing', 'you', 'can', '’', 't', 'do', 'is', 'ignore', 'them', 'because', 'they', 'change', 'things', '.', 'They', 'push', 'the', 'human', 'race', 'forward', ',', 'and', 'while', 'some', 'may', 'see', 'them', 'as', 'the', 'crazy', 'ones', ',', 'we', 'see', 'genius', ',', 'because', 'the', 'ones', 'who', 'are', 'crazy', 'enough', 'to', 'think', 'that', 'they', 'can', 'change', 'the', 'world', ',', 'are', 'the', 'ones', 'who', 'do', '.']\n",
            "['Here', 'crazy', 'ones', ',', 'misfits', ',', 'rebels', ',', 'troublemakers', ',', 'round', 'pegs', 'square', 'holes', '.', 'The', 'ones', 'see', 'things', 'differently', '—', '’', 'fond', 'rules', '.', 'You', 'quote', ',', 'disagree', ',', 'glorify', 'vilify', ',', 'thing', '’', 'ignore', 'change', 'things', '.', 'They', 'push', 'human', 'race', 'forward', ',', 'may', 'see', 'crazy', 'ones', ',', 'see', 'genius', ',', 'ones', 'crazy', 'enough', 'think', 'change', 'world', ',', 'ones', '.']\n"
          ]
        }
      ]
    },
    {
      "cell_type": "markdown",
      "metadata": {
        "id": "OmwXTL0UA5aw"
      },
      "source": [
        "### Collocation, Concordance"
      ]
    },
    {
      "cell_type": "markdown",
      "source": [
        "어떤 두 단어를 함께 배치, 예문 찾아볼 때"
      ],
      "metadata": {
        "id": "SyxCl0YJXK9V"
      }
    },
    {
      "cell_type": "code",
      "source": [
        "nltk.download('gutenberg')\n",
        "text = nltk.corpus.gutenberg.raw('melville-moby_dick.txt')\n",
        "words=nltk.word_tokenize(text)\n",
        "words"
      ],
      "metadata": {
        "id": "OjC55h5Jc9WB",
        "outputId": "1ac83219-62fd-4704-f41b-18bd35eac044",
        "colab": {
          "base_uri": "https://localhost:8080/"
        }
      },
      "execution_count": 11,
      "outputs": [
        {
          "output_type": "stream",
          "name": "stdout",
          "text": [
            "[nltk_data] Downloading package gutenberg to /root/nltk_data...\n",
            "[nltk_data]   Unzipping corpora/gutenberg.zip.\n"
          ]
        },
        {
          "output_type": "execute_result",
          "data": {
            "text/plain": [
              "['[',\n",
              " 'Moby',\n",
              " 'Dick',\n",
              " 'by',\n",
              " 'Herman',\n",
              " 'Melville',\n",
              " '1851',\n",
              " ']',\n",
              " 'ETYMOLOGY',\n",
              " '.',\n",
              " '(',\n",
              " 'Supplied',\n",
              " 'by',\n",
              " 'a',\n",
              " 'Late',\n",
              " 'Consumptive',\n",
              " 'Usher',\n",
              " 'to',\n",
              " 'a',\n",
              " 'Grammar',\n",
              " 'School',\n",
              " ')',\n",
              " 'The',\n",
              " 'pale',\n",
              " 'Usher',\n",
              " '--',\n",
              " 'threadbare',\n",
              " 'in',\n",
              " 'coat',\n",
              " ',',\n",
              " 'heart',\n",
              " ',',\n",
              " 'body',\n",
              " ',',\n",
              " 'and',\n",
              " 'brain',\n",
              " ';',\n",
              " 'I',\n",
              " 'see',\n",
              " 'him',\n",
              " 'now',\n",
              " '.',\n",
              " 'He',\n",
              " 'was',\n",
              " 'ever',\n",
              " 'dusting',\n",
              " 'his',\n",
              " 'old',\n",
              " 'lexicons',\n",
              " 'and',\n",
              " 'grammars',\n",
              " ',',\n",
              " 'with',\n",
              " 'a',\n",
              " 'queer',\n",
              " 'handkerchief',\n",
              " ',',\n",
              " 'mockingly',\n",
              " 'embellished',\n",
              " 'with',\n",
              " 'all',\n",
              " 'the',\n",
              " 'gay',\n",
              " 'flags',\n",
              " 'of',\n",
              " 'all',\n",
              " 'the',\n",
              " 'known',\n",
              " 'nations',\n",
              " 'of',\n",
              " 'the',\n",
              " 'world',\n",
              " '.',\n",
              " 'He',\n",
              " 'loved',\n",
              " 'to',\n",
              " 'dust',\n",
              " 'his',\n",
              " 'old',\n",
              " 'grammars',\n",
              " ';',\n",
              " 'it',\n",
              " 'somehow',\n",
              " 'mildly',\n",
              " 'reminded',\n",
              " 'him',\n",
              " 'of',\n",
              " 'his',\n",
              " 'mortality',\n",
              " '.',\n",
              " '``',\n",
              " 'While',\n",
              " 'you',\n",
              " 'take',\n",
              " 'in',\n",
              " 'hand',\n",
              " 'to',\n",
              " 'school',\n",
              " 'others',\n",
              " ',',\n",
              " 'and',\n",
              " 'to',\n",
              " 'teach',\n",
              " 'them',\n",
              " 'by',\n",
              " 'what',\n",
              " 'name',\n",
              " 'a',\n",
              " 'whale-fish',\n",
              " 'is',\n",
              " 'to',\n",
              " 'be',\n",
              " 'called',\n",
              " 'in',\n",
              " 'our',\n",
              " 'tongue',\n",
              " 'leaving',\n",
              " 'out',\n",
              " ',',\n",
              " 'through',\n",
              " 'ignorance',\n",
              " ',',\n",
              " 'the',\n",
              " 'letter',\n",
              " 'H',\n",
              " ',',\n",
              " 'which',\n",
              " 'almost',\n",
              " 'alone',\n",
              " 'maketh',\n",
              " 'the',\n",
              " 'signification',\n",
              " 'of',\n",
              " 'the',\n",
              " 'word',\n",
              " ',',\n",
              " 'you',\n",
              " 'deliver',\n",
              " 'that',\n",
              " 'which',\n",
              " 'is',\n",
              " 'not',\n",
              " 'true',\n",
              " '.',\n",
              " \"''\",\n",
              " '--',\n",
              " 'HACKLUYT',\n",
              " \"''\",\n",
              " 'WHALE',\n",
              " '.',\n",
              " '...',\n",
              " 'Sw.',\n",
              " 'and',\n",
              " 'Dan',\n",
              " '.',\n",
              " 'HVAL',\n",
              " '.',\n",
              " 'This',\n",
              " 'animal',\n",
              " 'is',\n",
              " 'named',\n",
              " 'from',\n",
              " 'roundness',\n",
              " 'or',\n",
              " 'rolling',\n",
              " ';',\n",
              " 'for',\n",
              " 'in',\n",
              " 'Dan',\n",
              " '.',\n",
              " 'HVALT',\n",
              " 'is',\n",
              " 'arched',\n",
              " 'or',\n",
              " 'vaulted',\n",
              " '.',\n",
              " \"''\",\n",
              " '--',\n",
              " \"WEBSTER'S\",\n",
              " 'DICTIONARY',\n",
              " \"''\",\n",
              " 'WHALE',\n",
              " '.',\n",
              " '...',\n",
              " 'It',\n",
              " 'is',\n",
              " 'more',\n",
              " 'immediately',\n",
              " 'from',\n",
              " 'the',\n",
              " 'Dut',\n",
              " '.',\n",
              " 'and',\n",
              " 'Ger',\n",
              " '.',\n",
              " 'WALLEN',\n",
              " ';',\n",
              " 'A.S.',\n",
              " 'WALW-IAN',\n",
              " ',',\n",
              " 'to',\n",
              " 'roll',\n",
              " ',',\n",
              " 'to',\n",
              " 'wallow',\n",
              " '.',\n",
              " \"''\",\n",
              " '--',\n",
              " 'RICHARDSON',\n",
              " \"'S\",\n",
              " 'DICTIONARY',\n",
              " 'KETOS',\n",
              " ',',\n",
              " 'GREEK',\n",
              " '.',\n",
              " 'CETUS',\n",
              " ',',\n",
              " 'LATIN',\n",
              " '.',\n",
              " 'WHOEL',\n",
              " ',',\n",
              " 'ANGLO-SAXON',\n",
              " '.',\n",
              " 'HVALT',\n",
              " ',',\n",
              " 'DANISH',\n",
              " '.',\n",
              " 'WAL',\n",
              " ',',\n",
              " 'DUTCH',\n",
              " '.',\n",
              " 'HWAL',\n",
              " ',',\n",
              " 'SWEDISH',\n",
              " '.',\n",
              " 'WHALE',\n",
              " ',',\n",
              " 'ICELANDIC',\n",
              " '.',\n",
              " 'WHALE',\n",
              " ',',\n",
              " 'ENGLISH',\n",
              " '.',\n",
              " 'BALEINE',\n",
              " ',',\n",
              " 'FRENCH',\n",
              " '.',\n",
              " 'BALLENA',\n",
              " ',',\n",
              " 'SPANISH',\n",
              " '.',\n",
              " 'PEKEE-NUEE-NUEE',\n",
              " ',',\n",
              " 'FEGEE',\n",
              " '.',\n",
              " 'PEKEE-NUEE-NUEE',\n",
              " ',',\n",
              " 'ERROMANGOAN',\n",
              " '.',\n",
              " 'EXTRACTS',\n",
              " '(',\n",
              " 'Supplied',\n",
              " 'by',\n",
              " 'a',\n",
              " 'Sub-Sub-Librarian',\n",
              " ')',\n",
              " '.',\n",
              " 'It',\n",
              " 'will',\n",
              " 'be',\n",
              " 'seen',\n",
              " 'that',\n",
              " 'this',\n",
              " 'mere',\n",
              " 'painstaking',\n",
              " 'burrower',\n",
              " 'and',\n",
              " 'grub-worm',\n",
              " 'of',\n",
              " 'a',\n",
              " 'poor',\n",
              " 'devil',\n",
              " 'of',\n",
              " 'a',\n",
              " 'Sub-Sub',\n",
              " 'appears',\n",
              " 'to',\n",
              " 'have',\n",
              " 'gone',\n",
              " 'through',\n",
              " 'the',\n",
              " 'long',\n",
              " 'Vaticans',\n",
              " 'and',\n",
              " 'street-stalls',\n",
              " 'of',\n",
              " 'the',\n",
              " 'earth',\n",
              " ',',\n",
              " 'picking',\n",
              " 'up',\n",
              " 'whatever',\n",
              " 'random',\n",
              " 'allusions',\n",
              " 'to',\n",
              " 'whales',\n",
              " 'he',\n",
              " 'could',\n",
              " 'anyways',\n",
              " 'find',\n",
              " 'in',\n",
              " 'any',\n",
              " 'book',\n",
              " 'whatsoever',\n",
              " ',',\n",
              " 'sacred',\n",
              " 'or',\n",
              " 'profane',\n",
              " '.',\n",
              " 'Therefore',\n",
              " 'you',\n",
              " 'must',\n",
              " 'not',\n",
              " ',',\n",
              " 'in',\n",
              " 'every',\n",
              " 'case',\n",
              " 'at',\n",
              " 'least',\n",
              " ',',\n",
              " 'take',\n",
              " 'the',\n",
              " 'higgledy-piggledy',\n",
              " 'whale',\n",
              " 'statements',\n",
              " ',',\n",
              " 'however',\n",
              " 'authentic',\n",
              " ',',\n",
              " 'in',\n",
              " 'these',\n",
              " 'extracts',\n",
              " ',',\n",
              " 'for',\n",
              " 'veritable',\n",
              " 'gospel',\n",
              " 'cetology',\n",
              " '.',\n",
              " 'Far',\n",
              " 'from',\n",
              " 'it',\n",
              " '.',\n",
              " 'As',\n",
              " 'touching',\n",
              " 'the',\n",
              " 'ancient',\n",
              " 'authors',\n",
              " 'generally',\n",
              " ',',\n",
              " 'as',\n",
              " 'well',\n",
              " 'as',\n",
              " 'the',\n",
              " 'poets',\n",
              " 'here',\n",
              " 'appearing',\n",
              " ',',\n",
              " 'these',\n",
              " 'extracts',\n",
              " 'are',\n",
              " 'solely',\n",
              " 'valuable',\n",
              " 'or',\n",
              " 'entertaining',\n",
              " ',',\n",
              " 'as',\n",
              " 'affording',\n",
              " 'a',\n",
              " 'glancing',\n",
              " 'bird',\n",
              " \"'s\",\n",
              " 'eye',\n",
              " 'view',\n",
              " 'of',\n",
              " 'what',\n",
              " 'has',\n",
              " 'been',\n",
              " 'promiscuously',\n",
              " 'said',\n",
              " ',',\n",
              " 'thought',\n",
              " ',',\n",
              " 'fancied',\n",
              " ',',\n",
              " 'and',\n",
              " 'sung',\n",
              " 'of',\n",
              " 'Leviathan',\n",
              " ',',\n",
              " 'by',\n",
              " 'many',\n",
              " 'nations',\n",
              " 'and',\n",
              " 'generations',\n",
              " ',',\n",
              " 'including',\n",
              " 'our',\n",
              " 'own',\n",
              " '.',\n",
              " 'So',\n",
              " 'fare',\n",
              " 'thee',\n",
              " 'well',\n",
              " ',',\n",
              " 'poor',\n",
              " 'devil',\n",
              " 'of',\n",
              " 'a',\n",
              " 'Sub-Sub',\n",
              " ',',\n",
              " 'whose',\n",
              " 'commentator',\n",
              " 'I',\n",
              " 'am',\n",
              " '.',\n",
              " 'Thou',\n",
              " 'belongest',\n",
              " 'to',\n",
              " 'that',\n",
              " 'hopeless',\n",
              " ',',\n",
              " 'sallow',\n",
              " 'tribe',\n",
              " 'which',\n",
              " 'no',\n",
              " 'wine',\n",
              " 'of',\n",
              " 'this',\n",
              " 'world',\n",
              " 'will',\n",
              " 'ever',\n",
              " 'warm',\n",
              " ';',\n",
              " 'and',\n",
              " 'for',\n",
              " 'whom',\n",
              " 'even',\n",
              " 'Pale',\n",
              " 'Sherry',\n",
              " 'would',\n",
              " 'be',\n",
              " 'too',\n",
              " 'rosy-strong',\n",
              " ';',\n",
              " 'but',\n",
              " 'with',\n",
              " 'whom',\n",
              " 'one',\n",
              " 'sometimes',\n",
              " 'loves',\n",
              " 'to',\n",
              " 'sit',\n",
              " ',',\n",
              " 'and',\n",
              " 'feel',\n",
              " 'poor-devilish',\n",
              " ',',\n",
              " 'too',\n",
              " ';',\n",
              " 'and',\n",
              " 'grow',\n",
              " 'convivial',\n",
              " 'upon',\n",
              " 'tears',\n",
              " ';',\n",
              " 'and',\n",
              " 'say',\n",
              " 'to',\n",
              " 'them',\n",
              " 'bluntly',\n",
              " ',',\n",
              " 'with',\n",
              " 'full',\n",
              " 'eyes',\n",
              " 'and',\n",
              " 'empty',\n",
              " 'glasses',\n",
              " ',',\n",
              " 'and',\n",
              " 'in',\n",
              " 'not',\n",
              " 'altogether',\n",
              " 'unpleasant',\n",
              " 'sadness',\n",
              " '--',\n",
              " 'Give',\n",
              " 'it',\n",
              " 'up',\n",
              " ',',\n",
              " 'Sub-Subs',\n",
              " '!',\n",
              " 'For',\n",
              " 'by',\n",
              " 'how',\n",
              " 'much',\n",
              " 'the',\n",
              " 'more',\n",
              " 'pains',\n",
              " 'ye',\n",
              " 'take',\n",
              " 'to',\n",
              " 'please',\n",
              " 'the',\n",
              " 'world',\n",
              " ',',\n",
              " 'by',\n",
              " 'so',\n",
              " 'much',\n",
              " 'the',\n",
              " 'more',\n",
              " 'shall',\n",
              " 'ye',\n",
              " 'for',\n",
              " 'ever',\n",
              " 'go',\n",
              " 'thankless',\n",
              " '!',\n",
              " 'Would',\n",
              " 'that',\n",
              " 'I',\n",
              " 'could',\n",
              " 'clear',\n",
              " 'out',\n",
              " 'Hampton',\n",
              " 'Court',\n",
              " 'and',\n",
              " 'the',\n",
              " 'Tuileries',\n",
              " 'for',\n",
              " 'ye',\n",
              " '!',\n",
              " 'But',\n",
              " 'gulp',\n",
              " 'down',\n",
              " 'your',\n",
              " 'tears',\n",
              " 'and',\n",
              " 'hie',\n",
              " 'aloft',\n",
              " 'to',\n",
              " 'the',\n",
              " 'royal-mast',\n",
              " 'with',\n",
              " 'your',\n",
              " 'hearts',\n",
              " ';',\n",
              " 'for',\n",
              " 'your',\n",
              " 'friends',\n",
              " 'who',\n",
              " 'have',\n",
              " 'gone',\n",
              " 'before',\n",
              " 'are',\n",
              " 'clearing',\n",
              " 'out',\n",
              " 'the',\n",
              " 'seven-storied',\n",
              " 'heavens',\n",
              " ',',\n",
              " 'and',\n",
              " 'making',\n",
              " 'refugees',\n",
              " 'of',\n",
              " 'long-pampered',\n",
              " 'Gabriel',\n",
              " ',',\n",
              " 'Michael',\n",
              " ',',\n",
              " 'and',\n",
              " 'Raphael',\n",
              " ',',\n",
              " 'against',\n",
              " 'your',\n",
              " 'coming',\n",
              " '.',\n",
              " 'Here',\n",
              " 'ye',\n",
              " 'strike',\n",
              " 'but',\n",
              " 'splintered',\n",
              " 'hearts',\n",
              " 'together',\n",
              " '--',\n",
              " 'there',\n",
              " ',',\n",
              " 'ye',\n",
              " 'shall',\n",
              " 'strike',\n",
              " 'unsplinterable',\n",
              " 'glasses',\n",
              " '!',\n",
              " 'EXTRACTS',\n",
              " '.',\n",
              " '``',\n",
              " 'And',\n",
              " 'God',\n",
              " 'created',\n",
              " 'great',\n",
              " 'whales',\n",
              " '.',\n",
              " \"''\",\n",
              " '--',\n",
              " 'GENESIS',\n",
              " '.',\n",
              " '``',\n",
              " 'Leviathan',\n",
              " 'maketh',\n",
              " 'a',\n",
              " 'path',\n",
              " 'to',\n",
              " 'shine',\n",
              " 'after',\n",
              " 'him',\n",
              " ';',\n",
              " 'One',\n",
              " 'would',\n",
              " 'think',\n",
              " 'the',\n",
              " 'deep',\n",
              " 'to',\n",
              " 'be',\n",
              " 'hoary',\n",
              " '.',\n",
              " \"''\",\n",
              " '--',\n",
              " 'JOB',\n",
              " '.',\n",
              " '``',\n",
              " 'Now',\n",
              " 'the',\n",
              " 'Lord',\n",
              " 'had',\n",
              " 'prepared',\n",
              " 'a',\n",
              " 'great',\n",
              " 'fish',\n",
              " 'to',\n",
              " 'swallow',\n",
              " 'up',\n",
              " 'Jonah',\n",
              " '.',\n",
              " \"''\",\n",
              " '--',\n",
              " 'JONAH',\n",
              " '.',\n",
              " '``',\n",
              " 'There',\n",
              " 'go',\n",
              " 'the',\n",
              " 'ships',\n",
              " ';',\n",
              " 'there',\n",
              " 'is',\n",
              " 'that',\n",
              " 'Leviathan',\n",
              " 'whom',\n",
              " 'thou',\n",
              " 'hast',\n",
              " 'made',\n",
              " 'to',\n",
              " 'play',\n",
              " 'therein',\n",
              " '.',\n",
              " \"''\",\n",
              " '--',\n",
              " 'PSALMS',\n",
              " '.',\n",
              " '``',\n",
              " 'In',\n",
              " 'that',\n",
              " 'day',\n",
              " ',',\n",
              " 'the',\n",
              " 'Lord',\n",
              " 'with',\n",
              " 'his',\n",
              " 'sore',\n",
              " ',',\n",
              " 'and',\n",
              " 'great',\n",
              " ',',\n",
              " 'and',\n",
              " 'strong',\n",
              " 'sword',\n",
              " ',',\n",
              " 'shall',\n",
              " 'punish',\n",
              " 'Leviathan',\n",
              " 'the',\n",
              " 'piercing',\n",
              " 'serpent',\n",
              " ',',\n",
              " 'even',\n",
              " 'Leviathan',\n",
              " 'that',\n",
              " 'crooked',\n",
              " 'serpent',\n",
              " ';',\n",
              " 'and',\n",
              " 'he',\n",
              " 'shall',\n",
              " 'slay',\n",
              " 'the',\n",
              " 'dragon',\n",
              " 'that',\n",
              " 'is',\n",
              " 'in',\n",
              " 'the',\n",
              " 'sea',\n",
              " '.',\n",
              " \"''\",\n",
              " '--',\n",
              " 'ISAIAH',\n",
              " \"''\",\n",
              " 'And',\n",
              " 'what',\n",
              " 'thing',\n",
              " 'soever',\n",
              " 'besides',\n",
              " 'cometh',\n",
              " 'within',\n",
              " 'the',\n",
              " 'chaos',\n",
              " 'of',\n",
              " 'this',\n",
              " 'monster',\n",
              " \"'s\",\n",
              " 'mouth',\n",
              " ',',\n",
              " 'be',\n",
              " 'it',\n",
              " 'beast',\n",
              " ',',\n",
              " 'boat',\n",
              " ',',\n",
              " 'or',\n",
              " 'stone',\n",
              " ',',\n",
              " 'down',\n",
              " 'it',\n",
              " 'goes',\n",
              " 'all',\n",
              " 'incontinently',\n",
              " 'that',\n",
              " 'foul',\n",
              " 'great',\n",
              " 'swallow',\n",
              " 'of',\n",
              " 'his',\n",
              " ',',\n",
              " 'and',\n",
              " 'perisheth',\n",
              " 'in',\n",
              " 'the',\n",
              " 'bottomless',\n",
              " 'gulf',\n",
              " 'of',\n",
              " 'his',\n",
              " 'paunch',\n",
              " '.',\n",
              " \"''\",\n",
              " '--',\n",
              " 'HOLLAND',\n",
              " \"'S\",\n",
              " 'PLUTARCH',\n",
              " \"'S\",\n",
              " 'MORALS',\n",
              " '.',\n",
              " '``',\n",
              " 'The',\n",
              " 'Indian',\n",
              " 'Sea',\n",
              " 'breedeth',\n",
              " 'the',\n",
              " 'most',\n",
              " 'and',\n",
              " 'the',\n",
              " 'biggest',\n",
              " 'fishes',\n",
              " 'that',\n",
              " 'are',\n",
              " ':',\n",
              " 'among',\n",
              " 'which',\n",
              " 'the',\n",
              " 'Whales',\n",
              " 'and',\n",
              " 'Whirlpooles',\n",
              " 'called',\n",
              " 'Balaene',\n",
              " ',',\n",
              " 'take',\n",
              " 'up',\n",
              " 'as',\n",
              " 'much',\n",
              " 'in',\n",
              " 'length',\n",
              " 'as',\n",
              " 'four',\n",
              " 'acres',\n",
              " 'or',\n",
              " 'arpens',\n",
              " 'of',\n",
              " 'land',\n",
              " '.',\n",
              " \"''\",\n",
              " '--',\n",
              " 'HOLLAND',\n",
              " \"'S\",\n",
              " 'PLINY',\n",
              " '.',\n",
              " '``',\n",
              " 'Scarcely',\n",
              " 'had',\n",
              " 'we',\n",
              " 'proceeded',\n",
              " 'two',\n",
              " 'days',\n",
              " 'on',\n",
              " 'the',\n",
              " 'sea',\n",
              " ',',\n",
              " 'when',\n",
              " 'about',\n",
              " 'sunrise',\n",
              " 'a',\n",
              " 'great',\n",
              " 'many',\n",
              " 'Whales',\n",
              " 'and',\n",
              " 'other',\n",
              " 'monsters',\n",
              " 'of',\n",
              " 'the',\n",
              " 'sea',\n",
              " ',',\n",
              " 'appeared',\n",
              " '.',\n",
              " 'Among',\n",
              " 'the',\n",
              " 'former',\n",
              " ',',\n",
              " 'one',\n",
              " 'was',\n",
              " 'of',\n",
              " 'a',\n",
              " 'most',\n",
              " 'monstrous',\n",
              " 'size',\n",
              " '.',\n",
              " '...',\n",
              " 'This',\n",
              " 'came',\n",
              " 'towards',\n",
              " 'us',\n",
              " ',',\n",
              " 'open-mouthed',\n",
              " ',',\n",
              " 'raising',\n",
              " 'the',\n",
              " 'waves',\n",
              " 'on',\n",
              " 'all',\n",
              " 'sides',\n",
              " ',',\n",
              " 'and',\n",
              " 'beating',\n",
              " 'the',\n",
              " 'sea',\n",
              " 'before',\n",
              " 'him',\n",
              " 'into',\n",
              " 'a',\n",
              " 'foam',\n",
              " '.',\n",
              " \"''\",\n",
              " '--',\n",
              " 'TOOKE',\n",
              " \"'S\",\n",
              " 'LUCIAN',\n",
              " '.',\n",
              " '``',\n",
              " 'THE',\n",
              " 'TRUE',\n",
              " 'HISTORY',\n",
              " '.',\n",
              " \"''\",\n",
              " '``',\n",
              " 'He',\n",
              " 'visited',\n",
              " 'this',\n",
              " 'country',\n",
              " 'also',\n",
              " 'with',\n",
              " 'a',\n",
              " 'view',\n",
              " 'of',\n",
              " 'catching',\n",
              " 'horse-whales',\n",
              " ',',\n",
              " 'which',\n",
              " 'had',\n",
              " 'bones',\n",
              " 'of',\n",
              " 'very',\n",
              " 'great',\n",
              " 'value',\n",
              " 'for',\n",
              " 'their',\n",
              " 'teeth',\n",
              " ',',\n",
              " 'of',\n",
              " 'which',\n",
              " 'he',\n",
              " 'brought',\n",
              " 'some',\n",
              " 'to',\n",
              " 'the',\n",
              " 'king',\n",
              " '.',\n",
              " '...',\n",
              " 'The',\n",
              " 'best',\n",
              " 'whales',\n",
              " 'were',\n",
              " 'catched',\n",
              " 'in',\n",
              " 'his',\n",
              " 'own',\n",
              " 'country',\n",
              " ',',\n",
              " 'of',\n",
              " 'which',\n",
              " 'some',\n",
              " 'were',\n",
              " 'forty-eight',\n",
              " ',',\n",
              " 'some',\n",
              " 'fifty',\n",
              " 'yards',\n",
              " 'long',\n",
              " '.',\n",
              " 'He',\n",
              " 'said',\n",
              " 'that',\n",
              " 'he',\n",
              " 'was',\n",
              " 'one',\n",
              " 'of',\n",
              " 'six',\n",
              " 'who',\n",
              " 'had',\n",
              " 'killed',\n",
              " 'sixty',\n",
              " 'in',\n",
              " 'two',\n",
              " 'days',\n",
              " '.',\n",
              " \"''\",\n",
              " '--',\n",
              " 'OTHER',\n",
              " 'OR',\n",
              " 'OCTHER',\n",
              " \"'S\",\n",
              " 'VERBAL',\n",
              " 'NARRATIVE',\n",
              " 'TAKEN',\n",
              " 'DOWN',\n",
              " 'FROM',\n",
              " 'HIS',\n",
              " 'MOUTH',\n",
              " 'BY',\n",
              " 'KING',\n",
              " 'ALFRED',\n",
              " ',',\n",
              " 'A.D.',\n",
              " '890',\n",
              " '.',\n",
              " '``',\n",
              " 'And',\n",
              " 'whereas',\n",
              " 'all',\n",
              " 'the',\n",
              " 'other',\n",
              " 'things',\n",
              " ',',\n",
              " 'whether',\n",
              " 'beast',\n",
              " 'or',\n",
              " ...]"
            ]
          },
          "metadata": {},
          "execution_count": 11
        }
      ]
    },
    {
      "cell_type": "code",
      "source": [
        "nltk.Text(words).collocations() #빈번하게 나오는 두 단어"
      ],
      "metadata": {
        "id": "AHgqdQ6KdjRM",
        "outputId": "9f177835-b444-42ff-ae64-dce6f48b65a0",
        "colab": {
          "base_uri": "https://localhost:8080/"
        }
      },
      "execution_count": 12,
      "outputs": [
        {
          "output_type": "stream",
          "name": "stdout",
          "text": [
            "Sperm Whale; Moby Dick; White Whale; old man; Captain Ahab; sperm\n",
            "whale; Right Whale; Captain Peleg; Mr. Starbuck; New Bedford; Cape\n",
            "Horn; 'ye see; cried Ahab; years ago; lower jaw; white whale; Mrs.\n",
            "Hussey; chief mate; never mind; Father Mapple\n"
          ]
        }
      ]
    },
    {
      "cell_type": "code",
      "source": [
        "nltk.Text(words).concordance('great',79,10) #용례를 보여줘라 단어를 기준으로 앞뒤로 해서 n-1까지"
      ],
      "metadata": {
        "id": "oYYbGFAIduWd",
        "outputId": "53961d9c-44ab-460d-9f39-df296bfb9cdc",
        "colab": {
          "base_uri": "https://localhost:8080/"
        }
      },
      "execution_count": 13,
      "outputs": [
        {
          "output_type": "stream",
          "name": "stdout",
          "text": [
            "Displaying 10 of 303 matches:\n",
            "sses ! EXTRACTS . `` And God created great whales . '' -- GENESIS . `` Leviatha\n",
            "JOB . `` Now the Lord had prepared a great fish to swallow up Jonah . '' -- JON\n",
            "t day , the Lord with his sore , and great , and strong sword , shall punish Le\n",
            " it goes all incontinently that foul great swallow of his , and perisheth in th\n",
            "ys on the sea , when about sunrise a great many Whales and other monsters of th\n",
            "rse-whales , which had bones of very great value for their teeth , of which he \n",
            ", the sea-gudgeon retires into it in great security , and there sleeps . '' -- \n",
            "ads . '' -- STOWE 'S ANNALS . `` The great Leviathan that maketh the seas to se\n",
            " ISLANDS . `` By art is created that great Leviathan , called a Commonwealth or\n",
            "t they were forced to proceed with a great deal of caution for fear they should\n"
          ]
        }
      ]
    },
    {
      "cell_type": "code",
      "source": [
        "nltk.Text(words).concordance('great',10,10) #(찾고 싶은 용례, 앞뒤로, 총 몇개)"
      ],
      "metadata": {
        "id": "vMu8tI7dd-LM",
        "outputId": "fba89caf-95ff-483e-e86f-17d7433ed41d",
        "colab": {
          "base_uri": "https://localhost:8080/"
        }
      },
      "execution_count": null,
      "outputs": [
        {
          "output_type": "stream",
          "name": "stdout",
          "text": [
            "Displaying 10 of 303 matches:\n",
            "d great w\n",
            "a great f\n",
            "d great ,\n",
            "l great s\n",
            "a great m\n",
            "y great v\n",
            "n great s\n",
            "e great L\n",
            "t great L\n",
            "a great d\n"
          ]
        }
      ]
    },
    {
      "cell_type": "code",
      "metadata": {
        "id": "Fll4ygxNA3OJ",
        "colab": {
          "base_uri": "https://localhost:8080/"
        },
        "outputId": "157dfe93-1432-4e62-eb76-60669be247d7"
      },
      "source": [
        "nltk.download('gutenberg')\n",
        "text = nltk.corpus.gutenberg.raw('austen-emma.txt')\n",
        "words = retokenize.tokenize(text)"
      ],
      "execution_count": null,
      "outputs": [
        {
          "output_type": "stream",
          "name": "stdout",
          "text": [
            "[nltk_data] Downloading package gutenberg to /root/nltk_data...\n",
            "[nltk_data]   Package gutenberg is already up-to-date!\n"
          ]
        }
      ]
    },
    {
      "cell_type": "code",
      "metadata": {
        "id": "NqVXlhIrAtmf",
        "colab": {
          "base_uri": "https://localhost:8080/"
        },
        "outputId": "83fa9764-188b-4648-b059-a17aec42af77"
      },
      "source": [
        "nltk.Text(words).collocations()"
      ],
      "execution_count": null,
      "outputs": [
        {
          "output_type": "stream",
          "name": "stdout",
          "text": [
            "Mrs Weston; Frank Churchill; Miss Woodhouse; Mrs Elton; Miss Bates;\n",
            "Jane Fairfax; Miss Fairfax; every thing; young man; every body; great\n",
            "deal; Mrs Goddard; dare say; Maple Grove; John Knightley; Miss Taylor;\n",
            "Miss Smith; Robert Martin; Colonel Campbell; Box Hill\n"
          ]
        }
      ]
    },
    {
      "cell_type": "code",
      "metadata": {
        "id": "Aq0wiutwA_au",
        "colab": {
          "base_uri": "https://localhost:8080/"
        },
        "outputId": "0786d8f8-023b-47b2-f3ba-cc1441119b39"
      },
      "source": [
        "nltk.Text(words).concordance('Emma', 79, 10)"
      ],
      "execution_count": null,
      "outputs": [
        {
          "output_type": "stream",
          "name": "stdout",
          "text": [
            "Displaying 10 of 865 matches:\n",
            "                                     Emma by Jane Austen 1816 VOLUME I CHAPTER\n",
            "                                     Emma Woodhouse handsome clever and rich w\n",
            "f both daughters but particularly of Emma Between _them_ it was more the intim\n",
            "nd friend very mutually attached and Emma doing just what she liked highly est\n",
            " by her own The real evils indeed of Emma s situation were the power of having\n",
            "ding day of this beloved friend that Emma first sat in mournful thought of any\n",
            "going only half a mile from them but Emma was aware that great must be the dif\n",
            "a day It was a melancholy change and Emma could not but sigh over it and wish \n",
            "ll the rest of her life at Hartfield Emma smiled and chatted as cheerfully as \n",
            "l be able to tell her how we all are Emma spared no exertions to maintain this\n"
          ]
        }
      ]
    },
    {
      "cell_type": "code",
      "metadata": {
        "id": "hIAIhXvP_BjU",
        "colab": {
          "base_uri": "https://localhost:8080/",
          "height": 295
        },
        "outputId": "f086d8d8-7e5e-4774-9d31-8d3cf5fd8cc1"
      },
      "source": [
        "nltk.Text(words).dispersion_plot([\"Emma\", \"Knightley\", \"Frank\", \"Jane\", \"Harriet\", \"Robert\"])\n",
        "#얼마나 책에 퍼져 있는가"
      ],
      "execution_count": null,
      "outputs": [
        {
          "output_type": "display_data",
          "data": {
            "image/png": "[encoded data removed]",
            "text/plain": [
              "<Figure size 432x288 with 1 Axes>"
            ]
          },
          "metadata": {
            "needs_background": "light"
          }
        }
      ]
    },
    {
      "cell_type": "code",
      "metadata": {
        "id": "lWYZOFxq_ex2",
        "colab": {
          "base_uri": "https://localhost:8080/"
        },
        "outputId": "8d6f429e-4734-4476-b1db-88058e689da9"
      },
      "source": [
        "nltk.Text(words).similar(\"Emma\")"
      ],
      "execution_count": null,
      "outputs": [
        {
          "output_type": "stream",
          "name": "stdout",
          "text": [
            "she it he i weston her you harriet elton him me knightley jane that\n",
            "and the all there they them\n"
          ]
        }
      ]
    },
    {
      "cell_type": "code",
      "metadata": {
        "id": "ZihiVSBK_vy7",
        "colab": {
          "base_uri": "https://localhost:8080/"
        },
        "outputId": "c89cdcd7-1a3a-4257-dd99-a7a6fbf82e5c"
      },
      "source": [
        "nltk.Text(words).common_contexts([\"Emma\", \"she\"]) #words->list"
      ],
      "execution_count": null,
      "outputs": [
        {
          "output_type": "stream",
          "name": "stdout",
          "text": [
            "but_was and_could that_should said_and which_could whom_knew\n",
            "which_particularly and_imagined that_could said_i that_began\n",
            "and_thought do_was but_could than_had said_but manner_was this_could\n",
            "as_saw possible_could\n"
          ]
        }
      ]
    },
    {
      "cell_type": "markdown",
      "metadata": {
        "id": "A8TrCE14vGcT"
      },
      "source": [
        "### Frequency distribution, Frequency plot"
      ]
    },
    {
      "cell_type": "code",
      "source": [
        "#어떤 책을 읽을 때 제일 많이 쓰인 단어를 알고 싶다! 1등부터 10등까지 알아보자"
      ],
      "metadata": {
        "id": "eADYxFCHeV0r"
      },
      "execution_count": 14,
      "outputs": []
    },
    {
      "cell_type": "code",
      "source": [
        "nltk.FreqDist(words).most_common(10)"
      ],
      "metadata": {
        "id": "e8bfciIoefPi",
        "outputId": "ff3371be-958f-4a99-e63a-0e74e51e4b0b",
        "colab": {
          "base_uri": "https://localhost:8080/"
        }
      },
      "execution_count": 15,
      "outputs": [
        {
          "output_type": "execute_result",
          "data": {
            "text/plain": [
              "[(',', 19204),\n",
              " ('the', 13715),\n",
              " ('.', 7308),\n",
              " ('of', 6513),\n",
              " ('and', 6010),\n",
              " ('a', 4545),\n",
              " ('to', 4515),\n",
              " (';', 4173),\n",
              " ('in', 3908),\n",
              " ('that', 2978)]"
            ]
          },
          "metadata": {},
          "execution_count": 15
        }
      ]
    },
    {
      "cell_type": "code",
      "metadata": {
        "id": "UdY3m6zSBHic",
        "colab": {
          "base_uri": "https://localhost:8080/"
        },
        "outputId": "6110fc1b-cde3-4fe4-9f8d-ee3b05be1877"
      },
      "source": [
        "fd = nltk.FreqDist(words).most_common(20)\n",
        "fd"
      ],
      "execution_count": 16,
      "outputs": [
        {
          "output_type": "execute_result",
          "data": {
            "text/plain": [
              "[(',', 19204),\n",
              " ('the', 13715),\n",
              " ('.', 7308),\n",
              " ('of', 6513),\n",
              " ('and', 6010),\n",
              " ('a', 4545),\n",
              " ('to', 4515),\n",
              " (';', 4173),\n",
              " ('in', 3908),\n",
              " ('that', 2978),\n",
              " ('his', 2459),\n",
              " ('it', 2196),\n",
              " ('I', 2097),\n",
              " ('!', 1767),\n",
              " ('is', 1722),\n",
              " ('--', 1713),\n",
              " ('with', 1659),\n",
              " ('he', 1658),\n",
              " ('was', 1639),\n",
              " ('as', 1620)]"
            ]
          },
          "metadata": {},
          "execution_count": 16
        }
      ]
    },
    {
      "cell_type": "code",
      "metadata": {
        "id": "1tpZThNV-ftv",
        "colab": {
          "base_uri": "https://localhost:8080/",
          "height": 294
        },
        "outputId": "35b89906-eb4c-46b1-ba70-18aa2bdc2c35"
      },
      "source": [
        "nltk.Text(words).plot(20)"
      ],
      "execution_count": null,
      "outputs": [
        {
          "output_type": "display_data",
          "data": {
            "image/png": "[encoded data removed]",
            "text/plain": [
              "<Figure size 432x288 with 1 Axes>"
            ]
          },
          "metadata": {
            "needs_background": "light"
          }
        }
      ]
    },
    {
      "cell_type": "markdown",
      "metadata": {
        "id": "JSOSzIovvKvE"
      },
      "source": [
        "### Dictionary"
      ]
    },
    {
      "cell_type": "code",
      "source": [
        "nltk.download('words')\n",
        "a=nltk.corpus.words.words('en')\n",
        "print(type(a))\n",
        "print(len(a))"
      ],
      "metadata": {
        "id": "i-BC2fLhe-xQ",
        "outputId": "cd765df5-a2ab-42db-9cff-83d3d44cf746",
        "colab": {
          "base_uri": "https://localhost:8080/"
        }
      },
      "execution_count": null,
      "outputs": [
        {
          "output_type": "stream",
          "name": "stdout",
          "text": [
            "[nltk_data] Downloading package words to /root/nltk_data...\n",
            "[nltk_data]   Package words is already up-to-date!\n",
            "<class 'list'>\n",
            "235886\n"
          ]
        }
      ]
    },
    {
      "cell_type": "code",
      "metadata": {
        "id": "UIcAOAvqntce",
        "colab": {
          "base_uri": "https://localhost:8080/"
        },
        "outputId": "228e9000-bcec-4be8-9ec8-281c226cae12"
      },
      "source": [
        "nltk.download('words')\n",
        "nltk.corpus.words.words('en')[-20:-1]\n"
      ],
      "execution_count": null,
      "outputs": [
        {
          "output_type": "stream",
          "name": "stdout",
          "text": [
            "[nltk_data] Downloading package words to /root/nltk_data...\n",
            "[nltk_data]   Package words is already up-to-date!\n"
          ]
        },
        {
          "output_type": "execute_result",
          "data": {
            "text/plain": [
              "['zymosis',\n",
              " 'zymosterol',\n",
              " 'zymosthenic',\n",
              " 'zymotechnic',\n",
              " 'zymotechnical',\n",
              " 'zymotechnics',\n",
              " 'zymotechny',\n",
              " 'zymotic',\n",
              " 'zymotically',\n",
              " 'zymotize',\n",
              " 'zymotoxic',\n",
              " 'zymurgy',\n",
              " 'Zyrenian',\n",
              " 'Zyrian',\n",
              " 'Zyryan',\n",
              " 'zythem',\n",
              " 'Zythia',\n",
              " 'zythum',\n",
              " 'Zyzomys']"
            ]
          },
          "metadata": {},
          "execution_count": 50
        }
      ]
    },
    {
      "cell_type": "code",
      "metadata": {
        "id": "GjAy_Ju7ntce",
        "colab": {
          "base_uri": "https://localhost:8080/"
        },
        "outputId": "4ef31147-3534-4af2-9d25-868b776f20bb"
      },
      "source": [
        "len(nltk.corpus.words.words('en')) #english"
      ],
      "execution_count": null,
      "outputs": [
        {
          "output_type": "execute_result",
          "data": {
            "text/plain": [
              "235886"
            ]
          },
          "metadata": {},
          "execution_count": 22
        }
      ]
    },
    {
      "cell_type": "markdown",
      "metadata": {
        "id": "VrVGVc0X9j7r"
      },
      "source": [
        "### Regular expression"
      ]
    },
    {
      "cell_type": "markdown",
      "source": [
        "모음이 두개가 있는 단어를 다 찾아내라! \n",
        "이런 규칙을 텍스트에 적용시켜 분류\n",
        "\n",
        "**Regular expression이 적용되는 건 string이다!!**"
      ],
      "metadata": {
        "id": "2P3RR6FzXd6q"
      }
    },
    {
      "cell_type": "code",
      "metadata": {
        "id": "cQKgoQFI_cG-"
      },
      "source": [
        "import re"
      ],
      "execution_count": 17,
      "outputs": []
    },
    {
      "cell_type": "code",
      "metadata": {
        "id": "7U2pS-NL9p38",
        "outputId": "4a5d51ca-3a0c-44e9-f165-77ac49445086",
        "colab": {
          "base_uri": "https://localhost:8080/",
          "height": 127
        }
      },
      "source": [
        "'''       Basic Regular Expression Meta-Characters, Including Wildcards, Ranges and Closures\n",
        "\n",
        ".\t        Wildcard, matches any character\n",
        "^abc\t    Matches some pattern abc at the start of a string\n",
        "abc$\t    Matches some pattern abc at the end of a string\n",
        "[abc]\t    Matches one of a set of characters\n",
        "[^abc]    Matches anything but a set of characters #a도, b도, c도 아닌 캐릭터를 다 찾아라\n",
        "[A-Z0-9]\tMatches one of a range of characters\n",
        "ed|ing|s\tMatches one of the specified strings (disjunction)\n",
        "*\t        Zero or more of previous item, e.g. a*, [a-z]* (also known as Kleene Closure)\n",
        "+\t        One or more of previous item, e.g. a+, [a-z]+\n",
        "?\t        Zero or one of the previous item (i.e. optional), e.g. a?, [a-z]?\n",
        "{n}\t      Exactly n repeats where n is a non-negative integer\n",
        "{n,}\t    At least n repeats\n",
        "{,n}\t    No more than n repeats\n",
        "{m,n}\t    At least m and no more than n repeats\n",
        "a(b|c)+\t  Parentheses that indicate the scope of the operators\n",
        "(...)     Matches whatever regular expression is inside the parentheses\n",
        "\\d\n",
        "Matches any decimal digit; this is equivalent to the class [0-9].\n",
        "\\D\n",
        "Matches any non-digit character; this is equivalent to the class [^0-9].\n",
        "\\s\n",
        "Matches any whitespace character; this is equivalent to the class [ \\t\\n\\r\\f\\v]. \n",
        "# \\s->space \\t->tap, \\n->new line \\r-> return\n",
        "\\S\n",
        "Matches any non-whitespace character; this is equivalent to the class [^ \\t\\n\\r\\f\\v].\n",
        "\\w\n",
        "Matches any alphanumeric character; this is equivalent to the class [a-zA-Z0-9_].\n",
        "\\W\n",
        "Matches any non-alphanumeric character; this is equivalent to the class [^a-zA-Z0-9_].\n",
        "\n",
        "'''"
      ],
      "execution_count": 18,
      "outputs": [
        {
          "output_type": "execute_result",
          "data": {
            "application/vnd.google.colaboratory.intrinsic+json": {
              "type": "string"
            },
            "text/plain": [
              "'       Basic Regular Expression Meta-Characters, Including Wildcards, Ranges and Closures\\n\\n.\\t        Wildcard, matches any character\\n^abc\\t    Matches some pattern abc at the start of a string\\nabc$\\t    Matches some pattern abc at the end of a string\\n[abc]\\t    Matches one of a set of characters\\n[^abc]    Matches anything but a set of characters #a도, b도, c도 아닌 캐릭터를 다 찾아라\\n[A-Z0-9]\\tMatches one of a range of characters\\ned|ing|s\\tMatches one of the specified strings (disjunction)\\n*\\t        Zero or more of previous item, e.g. a*, [a-z]* (also known as Kleene Closure)\\n+\\t        One or more of previous item, e.g. a+, [a-z]+\\n?\\t        Zero or one of the previous item (i.e. optional), e.g. a?, [a-z]?\\n{n}\\t      Exactly n repeats where n is a non-negative integer\\n{n,}\\t    At least n repeats\\n{,n}\\t    No more than n repeats\\n{m,n}\\t    At least m and no more than n repeats\\na(b|c)+\\t  Parentheses that indicate the scope of the operators\\n(...)     Matches whatever regular expression is inside the parentheses\\n\\\\d\\nMatches any decimal digit; this is equivalent to the class [0-9].\\n\\\\D\\nMatches any non-digit character; this is equivalent to the class [^0-9].\\n\\\\s\\nMatches any whitespace character; this is equivalent to the class [ \\t\\n\\r\\x0c\\x0b]. \\n# \\\\s->space \\t->tap, \\n->new line \\r-> return\\n\\\\S\\nMatches any non-whitespace character; this is equivalent to the class [^ \\t\\n\\r\\x0c\\x0b].\\n\\\\w\\nMatches any alphanumeric character; this is equivalent to the class [a-zA-Z0-9_].\\n\\\\W\\nMatches any non-alphanumeric character; this is equivalent to the class [^a-zA-Z0-9_].\\n\\n'"
            ]
          },
          "metadata": {},
          "execution_count": 18
        }
      ]
    },
    {
      "cell_type": "code",
      "source": [
        "re.findall('[^a-z]','considered 3condo') #a-z 아닌 것을 다 찾아라"
      ],
      "metadata": {
        "id": "ilK0NWTWlRbR",
        "outputId": "36429845-11fa-4cd7-9fa6-ddc26fef8587",
        "colab": {
          "base_uri": "https://localhost:8080/"
        }
      },
      "execution_count": null,
      "outputs": [
        {
          "output_type": "execute_result",
          "data": {
            "text/plain": [
              "[' ', '3']"
            ]
          },
          "metadata": {},
          "execution_count": 66
        }
      ]
    },
    {
      "cell_type": "code",
      "source": [
        "re.findall('ed|ing|s', 'Condisdered 3condo') #ed 혹은 ing 혹은 s 를 찾아라"
      ],
      "metadata": {
        "id": "_RyszrZSllIc",
        "outputId": "2ae5b084-32a7-404b-f56e-bb281c2d551c",
        "colab": {
          "base_uri": "https://localhost:8080/"
        }
      },
      "execution_count": 20,
      "outputs": [
        {
          "output_type": "execute_result",
          "data": {
            "text/plain": [
              "['s', 'ed']"
            ]
          },
          "metadata": {},
          "execution_count": 20
        }
      ]
    },
    {
      "cell_type": "code",
      "source": [
        "re.findall('[a-z]','considered condo') #a-z에 해당되는 걸 다 찾아라"
      ],
      "metadata": {
        "id": "6f_EpA_6f_2g",
        "outputId": "0f8f7673-e580-40df-d023-64a9a8dea6bc",
        "colab": {
          "base_uri": "https://localhost:8080/"
        }
      },
      "execution_count": null,
      "outputs": [
        {
          "output_type": "execute_result",
          "data": {
            "text/plain": [
              "['c', 'o', 'n', 's', 'i', 'd', 'e', 'r', 'e', 'd', 'c', 'o', 'n', 'd', 'o']"
            ]
          },
          "metadata": {},
          "execution_count": 68
        }
      ]
    },
    {
      "cell_type": "code",
      "source": [
        "re.findall('[s]+','Conssidered 3condo') #s가 하나 이상 들어간걸 찾아라"
      ],
      "metadata": {
        "id": "VrJs7c5JofKX",
        "outputId": "1adb6e1d-1ec5-46e3-847b-d1e3f4f47f51",
        "colab": {
          "base_uri": "https://localhost:8080/"
        }
      },
      "execution_count": null,
      "outputs": [
        {
          "output_type": "execute_result",
          "data": {
            "text/plain": [
              "['ss']"
            ]
          },
          "metadata": {},
          "execution_count": 69
        }
      ]
    },
    {
      "cell_type": "code",
      "source": [
        "re.findall('[s]{1,}','Conssidered 3condo') #s가 하나 이상 들어간걸 찾아라"
      ],
      "metadata": {
        "id": "m7k25pHMonK2",
        "outputId": "fb7a95b1-1cc0-4a97-eb6d-359f4e433b71",
        "colab": {
          "base_uri": "https://localhost:8080/"
        }
      },
      "execution_count": 23,
      "outputs": [
        {
          "output_type": "execute_result",
          "data": {
            "text/plain": [
              "['ss']"
            ]
          },
          "metadata": {},
          "execution_count": 23
        }
      ]
    },
    {
      "cell_type": "code",
      "source": [
        "re.findall('[s]*','Considered 3condo') #s가 0개 이상 들어간걸 찾아라"
      ],
      "metadata": {
        "id": "hCNZhPeEl-b-",
        "outputId": "5065e65c-dedb-45cf-f7f2-142b979599d1",
        "colab": {
          "base_uri": "https://localhost:8080/"
        }
      },
      "execution_count": null,
      "outputs": [
        {
          "output_type": "execute_result",
          "data": {
            "text/plain": [
              "['', '', '', 's', '', '', '', '', '', '', '', '', '', '', '', '', '', '']"
            ]
          },
          "metadata": {},
          "execution_count": 71
        }
      ]
    },
    {
      "cell_type": "code",
      "source": [
        "re.search('ed$','considered')"
      ],
      "metadata": {
        "id": "cEi1Q7vye4hl",
        "outputId": "315f3032-f17a-489d-febc-de4212b66415",
        "colab": {
          "base_uri": "https://localhost:8080/"
        }
      },
      "execution_count": 26,
      "outputs": [
        {
          "output_type": "execute_result",
          "data": {
            "text/plain": [
              "<re.Match object; span=(8, 10), match='ed'>"
            ]
          },
          "metadata": {},
          "execution_count": 26
        }
      ]
    },
    {
      "cell_type": "code",
      "source": [
        "re.findall('ed$','considered')"
      ],
      "metadata": {
        "id": "-QrOv2JBfLjL",
        "outputId": "2c02ec0f-7687-4ddc-c518-c47ef6923ab8",
        "colab": {
          "base_uri": "https://localhost:8080/"
        }
      },
      "execution_count": 27,
      "outputs": [
        {
          "output_type": "execute_result",
          "data": {
            "text/plain": [
              "['ed']"
            ]
          },
          "metadata": {},
          "execution_count": 27
        }
      ]
    },
    {
      "cell_type": "code",
      "source": [
        "re.findall('ed','considered seed')"
      ],
      "metadata": {
        "id": "W-prlVHLfRih",
        "outputId": "b32efc50-a41b-4785-b476-53d3741a8a96",
        "colab": {
          "base_uri": "https://localhost:8080/"
        }
      },
      "execution_count": 28,
      "outputs": [
        {
          "output_type": "execute_result",
          "data": {
            "text/plain": [
              "['ed', 'ed']"
            ]
          },
          "metadata": {},
          "execution_count": 28
        }
      ]
    },
    {
      "cell_type": "code",
      "source": [
        "re.findall('^con','considered condo') #제일 처음 con만 찾아라"
      ],
      "metadata": {
        "id": "_WP-LUlFfeL-",
        "outputId": "6d25330c-0938-4de4-ba99-06e7b28d4be3",
        "colab": {
          "base_uri": "https://localhost:8080/"
        }
      },
      "execution_count": 29,
      "outputs": [
        {
          "output_type": "execute_result",
          "data": {
            "text/plain": [
              "['con']"
            ]
          },
          "metadata": {},
          "execution_count": 29
        }
      ]
    },
    {
      "cell_type": "code",
      "source": [
        "re.findall('ed$','considered seed') #제일 마지막 ed만 찾아라"
      ],
      "metadata": {
        "id": "tftmbJptfZNy",
        "outputId": "6c6a86a8-cab7-4e14-d10c-5e33b3728fe2",
        "colab": {
          "base_uri": "https://localhost:8080/"
        }
      },
      "execution_count": 30,
      "outputs": [
        {
          "output_type": "execute_result",
          "data": {
            "text/plain": [
              "['ed']"
            ]
          },
          "metadata": {},
          "execution_count": 30
        }
      ]
    },
    {
      "cell_type": "code",
      "source": [
        "re.findall('[abc]','considered coando') #a 혹은 b 혹은 c를 모두 찾아라"
      ],
      "metadata": {
        "id": "8xfbnO0xfsmt",
        "outputId": "58511396-cb87-4003-e05f-ae7f19aa4c7b",
        "colab": {
          "base_uri": "https://localhost:8080/"
        }
      },
      "execution_count": 31,
      "outputs": [
        {
          "output_type": "execute_result",
          "data": {
            "text/plain": [
              "['c', 'c', 'a']"
            ]
          },
          "metadata": {},
          "execution_count": 31
        }
      ]
    },
    {
      "cell_type": "code",
      "source": [
        "re.findall('[cd]','considered condo')"
      ],
      "metadata": {
        "id": "5GAWmIa6f19X",
        "outputId": "563f5f1b-acae-4eba-c5b8-d08fe827abbf",
        "colab": {
          "base_uri": "https://localhost:8080/"
        }
      },
      "execution_count": null,
      "outputs": [
        {
          "output_type": "execute_result",
          "data": {
            "text/plain": [
              "['c', 'd', 'd', 'c', 'd']"
            ]
          },
          "metadata": {},
          "execution_count": 78
        }
      ]
    },
    {
      "cell_type": "code",
      "source": [
        "word='supercalifragilisticexpialidocious'\n",
        "re.search('[aeiou]li',word) #(규칙, 위에 있는 word를 규칙을 통해 search하라)\n",
        "#[abc]-> Marches one of a set of characters \n",
        "#li가 들어간 것을 찾아라 ali eli ili oli uli\n",
        "#제일 첫번째 나오는 것을 찾아줌\n",
        "#span - 6번째부터 9번째"
      ],
      "metadata": {
        "id": "WVLvqsKRgWlD",
        "outputId": "b766ce0f-670f-4e94-ad90-953e69a884ac",
        "colab": {
          "base_uri": "https://localhost:8080/"
        }
      },
      "execution_count": null,
      "outputs": [
        {
          "output_type": "execute_result",
          "data": {
            "text/plain": [
              "<re.Match object; span=(6, 9), match='ali'>"
            ]
          },
          "metadata": {},
          "execution_count": 79
        }
      ]
    },
    {
      "cell_type": "code",
      "source": [
        "if re.search('ed$','baked'):\n",
        "  print('yes')"
      ],
      "metadata": {
        "id": "2fFqnqWWpN9L",
        "outputId": "3f6b26e3-0a30-4b57-be41-bd1ee9ec8bc6",
        "colab": {
          "base_uri": "https://localhost:8080/"
        }
      },
      "execution_count": null,
      "outputs": [
        {
          "output_type": "stream",
          "name": "stdout",
          "text": [
            "yes\n"
          ]
        }
      ]
    },
    {
      "cell_type": "code",
      "source": [
        "if re.search('ep$','baked'):\n",
        "  print('yes')\n",
        "else:\n",
        "  print('no')"
      ],
      "metadata": {
        "id": "ugSTLjqipY5B",
        "outputId": "ed15095d-27db-4d8f-a4b0-693e9e503d1e",
        "colab": {
          "base_uri": "https://localhost:8080/"
        }
      },
      "execution_count": null,
      "outputs": [
        {
          "output_type": "stream",
          "name": "stdout",
          "text": [
            "no\n"
          ]
        }
      ]
    },
    {
      "cell_type": "code",
      "metadata": {
        "id": "sp3_Dm9Q_tNQ",
        "outputId": "0818e7e8-375d-4f53-ecd5-1092887d04b5",
        "colab": {
          "base_uri": "https://localhost:8080/"
        }
      },
      "source": [
        "nltk.download('words')\n",
        "engdict = nltk.corpus.words.words('en')\n",
        "\n",
        "#result = [w for w in engdict if re.search('ed$', w)]\n",
        "result = [w for w in engdict if re.search('^..j..t..$', w)]\n",
        "# result = [w for w in engdict if re.search('^[ghi][mno][jlk][def]$', w)]\n",
        "# result = [w for w in engdict if re.search('^[ah]+$', w)] #a혹은 h가 하나 이상 나오는 모든 단어\n",
        "print(result[:10])"
      ],
      "execution_count": 32,
      "outputs": [
        {
          "output_type": "stream",
          "name": "stdout",
          "text": [
            "[nltk_data] Downloading package words to /root/nltk_data...\n",
            "[nltk_data]   Unzipping corpora/words.zip.\n",
            "['abjectly', 'adjuster', 'dejected', 'dejectly', 'injector', 'majestic', 'objectee', 'objector', 'rejecter', 'rejector']\n"
          ]
        }
      ]
    },
    {
      "cell_type": "code",
      "metadata": {
        "id": "B1a5mQYj4hwn",
        "colab": {
          "base_uri": "https://localhost:8080/"
        },
        "outputId": "1941bea0-be3d-46d5-f318-e7cb555ef328"
      },
      "source": [
        "nltk.download('treebank')\n",
        "wsj = nltk.corpus.treebank.words()\n",
        "#^이 시작 $이 끝\n",
        "result = [w for w in wsj if re.search('(ed|ing)$', w)] #ed 혹은 ing로 끝나는 단어를 가져와라\n",
        "# result = [w for w in wsj if re.search('^[0-9]+\\.[0-9]+$', w)] #0-9까지 하나 이상 +.+0-9까지 숫자가 하나 이상\n",
        "# result = [w for w in wsj if re.search('^[A-Z]+\\$$', w)] #역슬래쉬달러는 진짜 달러\n",
        "# result = [w for w in wsj if re.search('^[0-9]{4}$', w)] #숫자가 정확하게 네개 나오는 것\n",
        "# result = [w for w in wsj if re.search('^[0-9]+-[a-z]{3,5}$', w)]#소문자가 3-5개\n",
        "# result = [w for w in wsj if re.search('^[a-z]{5,}-[a-z]{2,3}-[a-z]{,6}$', w)] #소문자가 다섯개 이상 + - + 등\n",
        "\n",
        "result = sorted(set(result)) #순서를 정해주는 것 result->set->sorted\n",
        "print(result[:10])"
      ],
      "execution_count": null,
      "outputs": [
        {
          "output_type": "stream",
          "name": "stdout",
          "text": [
            "[nltk_data] Downloading package treebank to /root/nltk_data...\n",
            "[nltk_data]   Unzipping corpora/treebank.zip.\n",
            "['62%-owned', 'Absorbed', 'According', 'Adopting', 'Advanced', 'Advancing', 'Alfred', 'Allied', 'Annualized', 'Anything']\n"
          ]
        }
      ]
    },
    {
      "cell_type": "markdown",
      "metadata": {
        "id": "UyIIqwosCRZa"
      },
      "source": [
        "### Extract information (pos tag, named entity)"
      ]
    },
    {
      "cell_type": "markdown",
      "source": [
        "pos tag- 품사 speech 의 part\n"
      ],
      "metadata": {
        "id": "iJNRoCB1Xsam"
      }
    },
    {
      "cell_type": "code",
      "metadata": {
        "id": "8VBiObftCVwH"
      },
      "source": [
        "sent = \"I am Jhon from America and would like to go to Starbucks\"\n",
        "words = nltk.word_tokenize(sent) #먼저 tokenize"
      ],
      "execution_count": null,
      "outputs": []
    },
    {
      "cell_type": "code",
      "metadata": {
        "id": "f2HuyzFWCe3U",
        "colab": {
          "base_uri": "https://localhost:8080/",
          "height": 127
        },
        "outputId": "b5de1480-e9f3-4592-a9cc-824755894bb4"
      },
      "source": [
        "'''\n",
        "POS tag list:\n",
        "\n",
        "CC\tcoordinating conjunction\n",
        "CD\tcardinal digit\n",
        "DT\tdeterminer\n",
        "EX\texistential there (like: \"there is\" ... think of it like \"there exists\")\n",
        "FW\tforeign word\n",
        "IN\tpreposition/subordinating conjunction\n",
        "JJ\tadjective\t'big'\n",
        "JJR\tadjective, comparative\t'bigger'\n",
        "JJS\tadjective, superlative\t'biggest'\n",
        "LS\tlist marker\t1)\n",
        "MD\tmodal\tcould, will\n",
        "NN\tnoun, singular 'desk'\n",
        "NNS\tnoun plural\t'desks'\n",
        "NNP\tproper noun, singular\t'Harrison'\n",
        "NNPS\tproper noun, plural\t'Americans'\n",
        "PDT\tpredeterminer\t'all the kids'\n",
        "POS\tpossessive ending\tparent's\n",
        "PRP\tpersonal pronoun\tI, he, she\n",
        "PRP$\tpossessive pronoun\tmy, his, hers\n",
        "RB\tadverb\tvery, silently,\n",
        "RBR\tadverb, comparative\tbetter\n",
        "RBS\tadverb, superlative\tbest\n",
        "RP\tparticle\tgive up\n",
        "TO\tto\tgo 'to' the store.\n",
        "UH\tinterjection\terrrrrrrrm\n",
        "VB\tverb, base form\ttake\n",
        "VBD\tverb, past tense\ttook\n",
        "VBG\tverb, gerund/present participle\ttaking\n",
        "VBN\tverb, past participle\ttaken\n",
        "VBP\tverb, sing. present, non-3d\ttake\n",
        "VBZ\tverb, 3rd person sing. present\ttakes\n",
        "WDT\twh-determiner\twhich\n",
        "WP\twh-pronoun\twho, what\n",
        "WP$\tpossessive wh-pronoun\twhose\n",
        "WRB\twh-abverb\twhere, when\n",
        "'''"
      ],
      "execution_count": null,
      "outputs": [
        {
          "output_type": "execute_result",
          "data": {
            "application/vnd.google.colaboratory.intrinsic+json": {
              "type": "string"
            },
            "text/plain": [
              "'\\nPOS tag list:\\n\\nCC\\tcoordinating conjunction\\nCD\\tcardinal digit\\nDT\\tdeterminer\\nEX\\texistential there (like: \"there is\" ... think of it like \"there exists\")\\nFW\\tforeign word\\nIN\\tpreposition/subordinating conjunction\\nJJ\\tadjective\\t\\'big\\'\\nJJR\\tadjective, comparative\\t\\'bigger\\'\\nJJS\\tadjective, superlative\\t\\'biggest\\'\\nLS\\tlist marker\\t1)\\nMD\\tmodal\\tcould, will\\nNN\\tnoun, singular \\'desk\\'\\nNNS\\tnoun plural\\t\\'desks\\'\\nNNP\\tproper noun, singular\\t\\'Harrison\\'\\nNNPS\\tproper noun, plural\\t\\'Americans\\'\\nPDT\\tpredeterminer\\t\\'all the kids\\'\\nPOS\\tpossessive ending\\tparent\\'s\\nPRP\\tpersonal pronoun\\tI, he, she\\nPRP$\\tpossessive pronoun\\tmy, his, hers\\nRB\\tadverb\\tvery, silently,\\nRBR\\tadverb, comparative\\tbetter\\nRBS\\tadverb, superlative\\tbest\\nRP\\tparticle\\tgive up\\nTO\\tto\\tgo \\'to\\' the store.\\nUH\\tinterjection\\terrrrrrrrm\\nVB\\tverb, base form\\ttake\\nVBD\\tverb, past tense\\ttook\\nVBG\\tverb, gerund/present participle\\ttaking\\nVBN\\tverb, past participle\\ttaken\\nVBP\\tverb, sing. present, non-3d\\ttake\\nVBZ\\tverb, 3rd person sing. present\\ttakes\\nWDT\\twh-determiner\\twhich\\nWP\\twh-pronoun\\twho, what\\nWP$\\tpossessive wh-pronoun\\twhose\\nWRB\\twh-abverb\\twhere, when\\n'"
            ]
          },
          "metadata": {},
          "execution_count": 85
        }
      ]
    },
    {
      "cell_type": "code",
      "metadata": {
        "id": "AwKdu36WCewv",
        "colab": {
          "base_uri": "https://localhost:8080/"
        },
        "outputId": "d084966f-ed00-4964-e65a-3c2e5c4b886c"
      },
      "source": [
        "nltk.download('averaged_perceptron_tagger')\n",
        "pos = nltk.pos_tag(words) #품사를 tagging해준다\n",
        "pos"
      ],
      "execution_count": null,
      "outputs": [
        {
          "output_type": "stream",
          "name": "stdout",
          "text": [
            "[nltk_data] Downloading package averaged_perceptron_tagger to\n",
            "[nltk_data]     /root/nltk_data...\n",
            "[nltk_data]   Package averaged_perceptron_tagger is already up-to-\n",
            "[nltk_data]       date!\n"
          ]
        },
        {
          "output_type": "execute_result",
          "data": {
            "text/plain": [
              "[('I', 'PRP'),\n",
              " ('am', 'VBP'),\n",
              " ('Jhon', 'RB'),\n",
              " ('from', 'IN'),\n",
              " ('America', 'NNP'),\n",
              " ('and', 'CC'),\n",
              " ('would', 'MD'),\n",
              " ('like', 'VB'),\n",
              " ('to', 'TO'),\n",
              " ('go', 'VB'),\n",
              " ('to', 'TO'),\n",
              " ('Starbucks', 'VB')]"
            ]
          },
          "metadata": {},
          "execution_count": 87
        }
      ]
    },
    {
      "cell_type": "code",
      "metadata": {
        "id": "rnjGT1HpClE0",
        "colab": {
          "base_uri": "https://localhost:8080/"
        },
        "outputId": "7e9cb27f-bc4a-4cb4-ca68-09254b5052e1"
      },
      "source": [
        "nltk.download('maxent_ne_chunker')\n",
        "NE = nltk.ne_chunk(pos) #named\n",
        "# common Entity types: ORGANIZATION, PERSON, LOCATION, DATE, TIME, MONEY, and GPE (geo-political entity)"
      ],
      "execution_count": null,
      "outputs": [
        {
          "output_type": "stream",
          "name": "stdout",
          "text": [
            "[nltk_data] Downloading package maxent_ne_chunker to\n",
            "[nltk_data]     /root/nltk_data...\n",
            "[nltk_data]   Package maxent_ne_chunker is already up-to-date!\n"
          ]
        }
      ]
    },
    {
      "cell_type": "code",
      "source": [
        "print(NE)"
      ],
      "metadata": {
        "colab": {
          "base_uri": "https://localhost:8080/"
        },
        "id": "c8tomb4KvK3i",
        "outputId": "bb2b6333-b540-4374-c7ce-dfe8539d7aed"
      },
      "execution_count": null,
      "outputs": [
        {
          "output_type": "stream",
          "name": "stdout",
          "text": [
            "(S\n",
            "  I/PRP\n",
            "  am/VBP\n",
            "  Jhon/RB\n",
            "  from/IN\n",
            "  (GPE America/NNP)\n",
            "  and/CC\n",
            "  would/MD\n",
            "  like/VB\n",
            "  to/TO\n",
            "  go/VB\n",
            "  to/TO\n",
            "  Starbucks/VB)\n"
          ]
        }
      ]
    },
    {
      "cell_type": "markdown",
      "source": [
        "named entity 정보 ... intention \n",
        "'스타벅스에 공부하러 가야지'\n",
        "스타벅스 - 공부하다\n",
        "정보를 뽑아낼 때 쓰는 분류"
      ],
      "metadata": {
        "id": "mePeYQ3ivdhD"
      }
    },
    {
      "cell_type": "markdown",
      "metadata": {
        "id": "jt9DEIZ4lXQF"
      },
      "source": [
        "### Wordcloud"
      ]
    },
    {
      "cell_type": "code",
      "source": [
        "len(text)"
      ],
      "metadata": {
        "colab": {
          "base_uri": "https://localhost:8080/"
        },
        "id": "8sasFqswvxSR",
        "outputId": "8365fe1d-b7d5-4cdc-87a5-dfa8f6dd180f"
      },
      "execution_count": null,
      "outputs": [
        {
          "output_type": "execute_result",
          "data": {
            "text/plain": [
              "4332554"
            ]
          },
          "metadata": {},
          "execution_count": 94
        }
      ]
    },
    {
      "cell_type": "code",
      "source": [
        "STOPWORDS"
      ],
      "metadata": {
        "colab": {
          "base_uri": "https://localhost:8080/"
        },
        "id": "OAGwRVGwv8qI",
        "outputId": "423f1f1a-c30b-480d-dc2a-833d2d1ffdec"
      },
      "execution_count": null,
      "outputs": [
        {
          "output_type": "execute_result",
          "data": {
            "text/plain": [
              "{'a',\n",
              " 'about',\n",
              " 'above',\n",
              " 'after',\n",
              " 'again',\n",
              " 'against',\n",
              " 'all',\n",
              " 'also',\n",
              " 'am',\n",
              " 'an',\n",
              " 'and',\n",
              " 'any',\n",
              " 'are',\n",
              " \"aren't\",\n",
              " 'as',\n",
              " 'at',\n",
              " 'be',\n",
              " 'because',\n",
              " 'been',\n",
              " 'before',\n",
              " 'being',\n",
              " 'below',\n",
              " 'between',\n",
              " 'both',\n",
              " 'but',\n",
              " 'by',\n",
              " 'can',\n",
              " \"can't\",\n",
              " 'cannot',\n",
              " 'com',\n",
              " 'could',\n",
              " \"couldn't\",\n",
              " 'did',\n",
              " \"didn't\",\n",
              " 'do',\n",
              " 'does',\n",
              " \"doesn't\",\n",
              " 'doing',\n",
              " \"don't\",\n",
              " 'down',\n",
              " 'during',\n",
              " 'each',\n",
              " 'else',\n",
              " 'ever',\n",
              " 'few',\n",
              " 'for',\n",
              " 'from',\n",
              " 'further',\n",
              " 'get',\n",
              " 'had',\n",
              " \"hadn't\",\n",
              " 'has',\n",
              " \"hasn't\",\n",
              " 'have',\n",
              " \"haven't\",\n",
              " 'having',\n",
              " 'he',\n",
              " \"he'd\",\n",
              " \"he'll\",\n",
              " \"he's\",\n",
              " 'her',\n",
              " 'here',\n",
              " \"here's\",\n",
              " 'hers',\n",
              " 'herself',\n",
              " 'him',\n",
              " 'himself',\n",
              " 'his',\n",
              " 'how',\n",
              " \"how's\",\n",
              " 'however',\n",
              " 'http',\n",
              " 'i',\n",
              " \"i'd\",\n",
              " \"i'll\",\n",
              " \"i'm\",\n",
              " \"i've\",\n",
              " 'if',\n",
              " 'in',\n",
              " 'into',\n",
              " 'is',\n",
              " \"isn't\",\n",
              " 'it',\n",
              " \"it's\",\n",
              " 'its',\n",
              " 'itself',\n",
              " 'just',\n",
              " 'k',\n",
              " \"let's\",\n",
              " 'like',\n",
              " 'me',\n",
              " 'more',\n",
              " 'most',\n",
              " \"mustn't\",\n",
              " 'my',\n",
              " 'myself',\n",
              " 'no',\n",
              " 'nor',\n",
              " 'not',\n",
              " 'of',\n",
              " 'off',\n",
              " 'on',\n",
              " 'once',\n",
              " 'only',\n",
              " 'or',\n",
              " 'other',\n",
              " 'otherwise',\n",
              " 'ought',\n",
              " 'our',\n",
              " 'ours',\n",
              " 'ourselves',\n",
              " 'out',\n",
              " 'over',\n",
              " 'own',\n",
              " 'r',\n",
              " 'same',\n",
              " 'shall',\n",
              " \"shan't\",\n",
              " 'she',\n",
              " \"she'd\",\n",
              " \"she'll\",\n",
              " \"she's\",\n",
              " 'should',\n",
              " \"shouldn't\",\n",
              " 'since',\n",
              " 'so',\n",
              " 'some',\n",
              " 'such',\n",
              " 'than',\n",
              " 'that',\n",
              " \"that's\",\n",
              " 'the',\n",
              " 'their',\n",
              " 'theirs',\n",
              " 'them',\n",
              " 'themselves',\n",
              " 'then',\n",
              " 'there',\n",
              " \"there's\",\n",
              " 'these',\n",
              " 'they',\n",
              " \"they'd\",\n",
              " \"they'll\",\n",
              " \"they're\",\n",
              " \"they've\",\n",
              " 'this',\n",
              " 'those',\n",
              " 'through',\n",
              " 'to',\n",
              " 'too',\n",
              " 'under',\n",
              " 'until',\n",
              " 'up',\n",
              " 'very',\n",
              " 'was',\n",
              " \"wasn't\",\n",
              " 'we',\n",
              " \"we'd\",\n",
              " \"we'll\",\n",
              " \"we're\",\n",
              " \"we've\",\n",
              " 'were',\n",
              " \"weren't\",\n",
              " 'what',\n",
              " \"what's\",\n",
              " 'when',\n",
              " \"when's\",\n",
              " 'where',\n",
              " \"where's\",\n",
              " 'which',\n",
              " 'while',\n",
              " 'who',\n",
              " \"who's\",\n",
              " 'whom',\n",
              " 'why',\n",
              " \"why's\",\n",
              " 'with',\n",
              " \"won't\",\n",
              " 'would',\n",
              " \"wouldn't\",\n",
              " 'www',\n",
              " 'you',\n",
              " \"you'd\",\n",
              " \"you'll\",\n",
              " \"you're\",\n",
              " \"you've\",\n",
              " 'your',\n",
              " 'yours',\n",
              " 'yourself',\n",
              " 'yourselves'}"
            ]
          },
          "metadata": {},
          "execution_count": 95
        }
      ]
    },
    {
      "cell_type": "code",
      "metadata": {
        "id": "jypxOnw9hoyZ",
        "colab": {
          "base_uri": "https://localhost:8080/",
          "height": 237
        },
        "outputId": "76b03bf6-fbf5-407e-f93e-8714f649342b"
      },
      "source": [
        "from wordcloud import WordCloud, STOPWORDS\n",
        "import matplotlib.pyplot as plt\n",
        "\n",
        "text = nltk.corpus.gutenberg.raw('bible-kjv.txt')\n",
        "\n",
        "wc = WordCloud().generate(text) \n",
        "plt.imshow(wc)"
      ],
      "execution_count": null,
      "outputs": [
        {
          "output_type": "execute_result",
          "data": {
            "text/plain": [
              "<matplotlib.image.AxesImage at 0x7f3369ea4810>"
            ]
          },
          "metadata": {},
          "execution_count": 93
        },
        {
          "output_type": "display_data",
          "data": {
            "image/png": "[encoded data removed]",
            "text/plain": [
              "<Figure size 432x288 with 1 Axes>"
            ]
          },
          "metadata": {
            "needs_background": "light"
          }
        }
      ]
    },
    {
      "cell_type": "code",
      "metadata": {
        "id": "Q6xv5ClAl5xk",
        "colab": {
          "base_uri": "https://localhost:8080/",
          "height": 237
        },
        "outputId": "2c8ca23f-7a1f-4b9d-e867-fd541678dade"
      },
      "source": [
        "stopwords = set(STOPWORDS) \n",
        "stopwords.add('unto') #빼고 싶은 단어 추가 가능\n",
        "wc = WordCloud(stopwords = stopwords).generate(text) \n",
        "plt.imshow(wc)"
      ],
      "execution_count": null,
      "outputs": [
        {
          "output_type": "execute_result",
          "data": {
            "text/plain": [
              "<matplotlib.image.AxesImage at 0x7f3369e19e50>"
            ]
          },
          "metadata": {},
          "execution_count": 98
        },
        {
          "output_type": "display_data",
          "data": {
            "image/png": "[encoded data removed]",
            "text/plain": [
              "<Figure size 432x288 with 1 Axes>"
            ]
          },
          "metadata": {
            "needs_background": "light"
          }
        }
      ]
    }
  ]
}