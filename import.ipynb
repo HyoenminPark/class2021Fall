{
  "nbformat": 4,
  "nbformat_minor": 0,
  "metadata": {
    "colab": {
      "name": "import.ipynb",
      "provenance": [],
      "include_colab_link": true
    },
    "kernelspec": {
      "name": "python3",
      "display_name": "Python 3"
    },
    "language_info": {
      "name": "python"
    }
  },
  "cells": [
    {
      "cell_type": "markdown",
      "metadata": {
        "id": "view-in-github",
        "colab_type": "text"
      },
      "source": [
        "<a href=\"https://colab.research.google.com/github/HyoenminPark/class2021Fall/blob/main/import.ipynb\" target=\"_parent\"><img src=\"https://colab.research.google.com/assets/colab-badge.svg\" alt=\"Open In Colab\"/></a>"
      ]
    },
    {
      "cell_type": "code",
      "metadata": {
        "id": "5-poPeVz8GRG",
        "outputId": "84593e20-10ea-468c-c32c-5cc54f4816b8",
        "colab": {
          "base_uri": "https://localhost:8080/"
        }
      },
      "source": [
        "import numpy as np\n",
        "numpy.random.randn(100) #random number 100개"
      ],
      "execution_count": 2,
      "outputs": [
        {
          "output_type": "execute_result",
          "data": {
            "text/plain": [
              "array([ 1.16838095, -2.38642883,  1.77022294, -0.9828488 ,  0.19183742,\n",
              "       -0.64690895, -0.76818336, -1.07177328,  0.11829625,  1.3524846 ,\n",
              "        0.59570403, -1.28273019, -0.05681729,  0.50895924, -0.21367882,\n",
              "       -0.94003308,  0.23187207, -1.99614446, -0.72914176,  0.57369152,\n",
              "        0.26178708, -0.32214464,  0.54028946, -0.74579999, -1.20674804,\n",
              "        0.43810525,  0.71447533,  0.26178844,  0.85640348,  0.1796888 ,\n",
              "        1.13003404, -0.423186  ,  0.69722946, -1.23300045, -0.22071049,\n",
              "        1.96766556,  1.43679591,  1.21744036,  2.01509697,  0.93526239,\n",
              "       -0.67510106,  0.87417424, -0.70865485,  0.36835016, -0.34830021,\n",
              "        1.14788146,  1.47784365, -2.35002155, -0.06424298,  0.55494354,\n",
              "       -0.20370506,  0.78951234, -0.23013364, -0.50330804,  0.43456421,\n",
              "       -0.93400325,  0.0278988 , -1.31615873,  0.1992739 , -1.27446673,\n",
              "        1.20053275, -1.28953883, -0.52821564, -1.00462509, -0.93380706,\n",
              "        0.23047982,  0.97945206,  0.15917046,  0.77492859,  0.42837582,\n",
              "       -0.32302846,  1.38245759, -2.28029465, -0.91602606,  0.74876714,\n",
              "        0.36006008,  0.24964209, -3.92282567, -0.54387532, -0.65977479,\n",
              "       -0.56657164, -0.41517611, -0.3628615 ,  1.02933884, -1.69332166,\n",
              "       -0.55928833, -0.51919872, -1.28715147, -1.8373858 , -0.5265575 ,\n",
              "        0.8448623 , -0.96916479,  0.34357258,  1.03766259, -0.39392488,\n",
              "        0.94218911, -0.35218929, -2.33292997,  0.26961986,  0.57314251])"
            ]
          },
          "metadata": {},
          "execution_count": 2
        }
      ]
    },
    {
      "cell_type": "code",
      "metadata": {
        "id": "JXicrkYOzPRo"
      },
      "source": [
        "import numpy as np\n",
        "n = np.random.randn(1000000)"
      ],
      "execution_count": 4,
      "outputs": []
    },
    {
      "cell_type": "code",
      "metadata": {
        "id": "oKT4vn4MwyLA",
        "colab": {
          "base_uri": "https://localhost:8080/",
          "height": 1000
        },
        "outputId": "9656bfcf-c501-4db5-8571-d55ca5f23f28"
      },
      "source": [
        "import matplotlib\n",
        "matplotlib.pyplot.hist(n, bins=100) \n",
        "#x축은 숫자 y축은 개수 "
      ],
      "execution_count": 5,
      "outputs": [
        {
          "output_type": "execute_result",
          "data": {
            "text/plain": [
              "(array([1.0000e+00, 0.0000e+00, 1.0000e+00, 0.0000e+00, 2.0000e+00,\n",
              "        2.0000e+00, 3.0000e+00, 7.0000e+00, 1.3000e+01, 1.5000e+01,\n",
              "        2.1000e+01, 3.4000e+01, 4.6000e+01, 7.5000e+01, 8.0000e+01,\n",
              "        1.1000e+02, 1.8500e+02, 2.1600e+02, 3.2300e+02, 4.2000e+02,\n",
              "        6.0000e+02, 7.2300e+02, 1.0670e+03, 1.2830e+03, 1.6330e+03,\n",
              "        2.1840e+03, 2.7820e+03, 3.2830e+03, 4.2010e+03, 5.0160e+03,\n",
              "        6.1360e+03, 7.4400e+03, 8.7300e+03, 1.0342e+04, 1.2260e+04,\n",
              "        1.4117e+04, 1.6010e+04, 1.7994e+04, 2.0573e+04, 2.2927e+04,\n",
              "        2.5180e+04, 2.7519e+04, 2.9837e+04, 3.1534e+04, 3.3983e+04,\n",
              "        3.5635e+04, 3.6689e+04, 3.7580e+04, 3.8896e+04, 3.8911e+04,\n",
              "        3.8776e+04, 3.8829e+04, 3.7956e+04, 3.7290e+04, 3.5588e+04,\n",
              "        3.3841e+04, 3.2276e+04, 3.0134e+04, 2.7881e+04, 2.5379e+04,\n",
              "        2.3157e+04, 2.0910e+04, 1.8606e+04, 1.6433e+04, 1.4391e+04,\n",
              "        1.2523e+04, 1.0713e+04, 9.1530e+03, 7.5890e+03, 6.6140e+03,\n",
              "        5.3280e+03, 4.1930e+03, 3.4900e+03, 2.8820e+03, 2.2610e+03,\n",
              "        1.7730e+03, 1.2870e+03, 1.0480e+03, 7.9400e+02, 5.8100e+02,\n",
              "        4.6900e+02, 3.4900e+02, 2.5400e+02, 1.7700e+02, 1.4500e+02,\n",
              "        8.8000e+01, 7.4000e+01, 5.3000e+01, 3.3000e+01, 2.0000e+01,\n",
              "        1.6000e+01, 1.0000e+01, 6.0000e+00, 5.0000e+00, 1.0000e+00,\n",
              "        3.0000e+00, 1.0000e+00, 0.0000e+00, 0.0000e+00, 1.0000e+00]),\n",
              " array([-4.91741372, -4.81927254, -4.72113136, -4.62299018, -4.524849  ,\n",
              "        -4.42670783, -4.32856665, -4.23042547, -4.13228429, -4.03414311,\n",
              "        -3.93600193, -3.83786075, -3.73971958, -3.6415784 , -3.54343722,\n",
              "        -3.44529604, -3.34715486, -3.24901368, -3.1508725 , -3.05273133,\n",
              "        -2.95459015, -2.85644897, -2.75830779, -2.66016661, -2.56202543,\n",
              "        -2.46388425, -2.36574308, -2.2676019 , -2.16946072, -2.07131954,\n",
              "        -1.97317836, -1.87503718, -1.776896  , -1.67875483, -1.58061365,\n",
              "        -1.48247247, -1.38433129, -1.28619011, -1.18804893, -1.08990775,\n",
              "        -0.99176657, -0.8936254 , -0.79548422, -0.69734304, -0.59920186,\n",
              "        -0.50106068, -0.4029195 , -0.30477832, -0.20663715, -0.10849597,\n",
              "        -0.01035479,  0.08778639,  0.18592757,  0.28406875,  0.38220993,\n",
              "         0.4803511 ,  0.57849228,  0.67663346,  0.77477464,  0.87291582,\n",
              "         0.971057  ,  1.06919818,  1.16733935,  1.26548053,  1.36362171,\n",
              "         1.46176289,  1.55990407,  1.65804525,  1.75618643,  1.8543276 ,\n",
              "         1.95246878,  2.05060996,  2.14875114,  2.24689232,  2.3450335 ,\n",
              "         2.44317468,  2.54131586,  2.63945703,  2.73759821,  2.83573939,\n",
              "         2.93388057,  3.03202175,  3.13016293,  3.22830411,  3.32644528,\n",
              "         3.42458646,  3.52272764,  3.62086882,  3.71901   ,  3.81715118,\n",
              "         3.91529236,  4.01343353,  4.11157471,  4.20971589,  4.30785707,\n",
              "         4.40599825,  4.50413943,  4.60228061,  4.70042178,  4.79856296,\n",
              "         4.89670414]),\n",
              " <a list of 100 Patch objects>)"
            ]
          },
          "metadata": {},
          "execution_count": 5
        },
        {
          "output_type": "display_data",
          "data": {
            "image/png": "[encoded data removed]",
            "text/plain": [
              "<Figure size 432x288 with 1 Axes>"
            ]
          },
          "metadata": {
            "needs_background": "light"
          }
        }
      ]
    },
    {
      "cell_type": "code",
      "metadata": {
        "colab": {
          "base_uri": "https://localhost:8080/",
          "height": 350
        },
        "id": "zQJ4LnbA-Hvz",
        "outputId": "bec7eeff-8cae-4c3d-f090-eaf78cdb5fa9"
      },
      "source": [
        "import matplotlib.pyplot\n",
        "matplotlib.pyplot.hist(n)"
      ],
      "execution_count": null,
      "outputs": [
        {
          "output_type": "execute_result",
          "data": {
            "text/plain": [
              "(array([ 4.,  4.,  4.,  8., 19., 21., 16., 13.,  6.,  5.]),\n",
              " array([-2.54804234, -2.0585933 , -1.56914426, -1.07969522, -0.59024618,\n",
              "        -0.10079714,  0.3886519 ,  0.87810094,  1.36754998,  1.85699902,\n",
              "         2.34644806]),\n",
              " <a list of 10 Patch objects>)"
            ]
          },
          "metadata": {},
          "execution_count": 4
        },
        {
          "output_type": "display_data",
          "data": {
            "image/png": "[encoded data removed]",
            "text/plain": [
              "<Figure size 432x288 with 1 Axes>"
            ]
          },
          "metadata": {
            "needs_background": "light"
          }
        }
      ]
    },
    {
      "cell_type": "code",
      "metadata": {
        "id": "AWU6awi53c07",
        "colab": {
          "base_uri": "https://localhost:8080/",
          "height": 350
        },
        "outputId": "9b49fb47-6bac-4887-8815-e5ed130f6c56"
      },
      "source": [
        "import matplotlib.pyplot as plt\n",
        "plt.hist(n)"
      ],
      "execution_count": null,
      "outputs": [
        {
          "output_type": "execute_result",
          "data": {
            "text/plain": [
              "(array([ 4.,  4.,  4.,  8., 19., 21., 16., 13.,  6.,  5.]),\n",
              " array([-2.54804234, -2.0585933 , -1.56914426, -1.07969522, -0.59024618,\n",
              "        -0.10079714,  0.3886519 ,  0.87810094,  1.36754998,  1.85699902,\n",
              "         2.34644806]),\n",
              " <a list of 10 Patch objects>)"
            ]
          },
          "metadata": {},
          "execution_count": 5
        },
        {
          "output_type": "display_data",
          "data": {
            "image/png": "[encoded data removed]",
            "text/plain": [
              "<Figure size 432x288 with 1 Axes>"
            ]
          },
          "metadata": {
            "needs_background": "light"
          }
        }
      ]
    },
    {
      "cell_type": "code",
      "metadata": {
        "colab": {
          "base_uri": "https://localhost:8080/",
          "height": 350
        },
        "id": "moIjn3Kv-Hqy",
        "outputId": "4b1e3880-1576-4b63-b4d0-192704221a8d"
      },
      "source": [
        "from matplotlib import pyplot\n",
        "pyplot.hist(n)"
      ],
      "execution_count": null,
      "outputs": [
        {
          "output_type": "execute_result",
          "data": {
            "text/plain": [
              "(array([ 3.,  4.,  9., 11., 26., 19., 16., 10.,  1.,  1.]),\n",
              " array([-2.51307585, -1.99199295, -1.47091005, -0.94982715, -0.42874425,\n",
              "         0.09233865,  0.61342155,  1.13450445,  1.65558734,  2.17667024,\n",
              "         2.69775314]),\n",
              " <a list of 10 Patch objects>)"
            ]
          },
          "metadata": {},
          "execution_count": 11
        },
        {
          "output_type": "display_data",
          "data": {
            "image/png": "[encoded data removed]",
            "text/plain": [
              "<Figure size 432x288 with 1 Axes>"
            ]
          },
          "metadata": {
            "needs_background": "light"
          }
        }
      ]
    },
    {
      "cell_type": "code",
      "metadata": {
        "colab": {
          "base_uri": "https://localhost:8080/",
          "height": 350
        },
        "id": "ORo259i7_Uqi",
        "outputId": "8faa9ebd-66ff-4f86-e588-f114023e649d"
      },
      "source": [
        "from matplotlib.pyplot import hist\n",
        "hist(n)"
      ],
      "execution_count": null,
      "outputs": [
        {
          "output_type": "execute_result",
          "data": {
            "text/plain": [
              "(array([ 3.,  4.,  9., 11., 26., 19., 16., 10.,  1.,  1.]),\n",
              " array([-2.51307585, -1.99199295, -1.47091005, -0.94982715, -0.42874425,\n",
              "         0.09233865,  0.61342155,  1.13450445,  1.65558734,  2.17667024,\n",
              "         2.69775314]),\n",
              " <a list of 10 Patch objects>)"
            ]
          },
          "metadata": {},
          "execution_count": 14
        },
        {
          "output_type": "display_data",
          "data": {
            "image/png": "[encoded data removed]",
            "text/plain": [
              "<Figure size 432x288 with 1 Axes>"
            ]
          },
          "metadata": {
            "needs_background": "light"
          }
        }
      ]
    }
  ]
}