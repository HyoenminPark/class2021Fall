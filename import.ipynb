{
  "nbformat": 4,
  "nbformat_minor": 0,
  "metadata": {
    "colab": {
      "name": "import.ipynb",
      "provenance": [],
      "include_colab_link": true
    },
    "kernelspec": {
      "name": "python3",
      "display_name": "Python 3"
    },
    "language_info": {
      "name": "python"
    }
  },
  "cells": [
    {
      "cell_type": "markdown",
      "metadata": {
        "id": "view-in-github",
        "colab_type": "text"
      },
      "source": [
        "<a href=\"https://colab.research.google.com/github/HyoenminPark/class2021Fall/blob/main/import.ipynb\" target=\"_parent\"><img src=\"https://colab.research.google.com/assets/colab-badge.svg\" alt=\"Open In Colab\"/></a>"
      ]
    },
    {
      "cell_type": "code",
      "source": [
        "import matplotlib\n",
        "import matplotlib.pyplot as plt\n",
        "from matplotlib import pyplot\n",
        "from matplotlib.pyplot import hist"
      ],
      "metadata": {
        "id": "_6ZQgARTi4_r"
      },
      "execution_count": 8,
      "outputs": []
    },
    {
      "cell_type": "code",
      "metadata": {
        "id": "JXicrkYOzPRo"
      },
      "source": [
        "import numpy as np\n",
        "n = np.random.randn(1000000)"
      ],
      "execution_count": 18,
      "outputs": []
    },
    {
      "cell_type": "code",
      "metadata": {
        "id": "oKT4vn4MwyLA",
        "colab": {
          "base_uri": "https://localhost:8080/",
          "height": 1000
        },
        "outputId": "10d7558d-7514-4d93-a5a0-cf520e97b99a"
      },
      "source": [
        "import matplotlib\n",
        "matplotlib.pyplot.hist(n, bins=1000) \n",
        "#x축은 숫자 y축은 개수 "
      ],
      "execution_count": 20,
      "outputs": [
        {
          "output_type": "execute_result",
          "data": {
            "text/plain": [
              "(array([1.000e+00, 0.000e+00, 0.000e+00, 0.000e+00, 0.000e+00, 0.000e+00,\n",
              "        0.000e+00, 0.000e+00, 0.000e+00, 0.000e+00, 0.000e+00, 0.000e+00,\n",
              "        0.000e+00, 0.000e+00, 0.000e+00, 0.000e+00, 0.000e+00, 0.000e+00,\n",
              "        0.000e+00, 0.000e+00, 0.000e+00, 0.000e+00, 0.000e+00, 0.000e+00,\n",
              "        0.000e+00, 0.000e+00, 0.000e+00, 0.000e+00, 0.000e+00, 0.000e+00,\n",
              "        2.000e+00, 0.000e+00, 0.000e+00, 0.000e+00, 0.000e+00, 0.000e+00,\n",
              "        0.000e+00, 0.000e+00, 0.000e+00, 0.000e+00, 0.000e+00, 0.000e+00,\n",
              "        0.000e+00, 0.000e+00, 0.000e+00, 1.000e+00, 0.000e+00, 0.000e+00,\n",
              "        0.000e+00, 0.000e+00, 1.000e+00, 1.000e+00, 0.000e+00, 2.000e+00,\n",
              "        0.000e+00, 0.000e+00, 0.000e+00, 0.000e+00, 0.000e+00, 3.000e+00,\n",
              "        0.000e+00, 1.000e+00, 1.000e+00, 0.000e+00, 1.000e+00, 1.000e+00,\n",
              "        0.000e+00, 3.000e+00, 1.000e+00, 0.000e+00, 2.000e+00, 0.000e+00,\n",
              "        1.000e+00, 1.000e+00, 2.000e+00, 5.000e+00, 1.000e+00, 4.000e+00,\n",
              "        1.000e+00, 1.000e+00, 0.000e+00, 2.000e+00, 2.000e+00, 1.000e+00,\n",
              "        4.000e+00, 3.000e+00, 1.000e+00, 3.000e+00, 6.000e+00, 2.000e+00,\n",
              "        2.000e+00, 3.000e+00, 3.000e+00, 5.000e+00, 2.000e+00, 3.000e+00,\n",
              "        5.000e+00, 1.000e+00, 4.000e+00, 7.000e+00, 2.000e+00, 3.000e+00,\n",
              "        4.000e+00, 4.000e+00, 3.000e+00, 4.000e+00, 6.000e+00, 3.000e+00,\n",
              "        2.000e+00, 5.000e+00, 4.000e+00, 3.000e+00, 7.000e+00, 8.000e+00,\n",
              "        4.000e+00, 3.000e+00, 7.000e+00, 4.000e+00, 6.000e+00, 7.000e+00,\n",
              "        6.000e+00, 7.000e+00, 9.000e+00, 1.200e+01, 1.100e+01, 1.200e+01,\n",
              "        1.100e+01, 1.100e+01, 8.000e+00, 1.200e+01, 1.200e+01, 1.300e+01,\n",
              "        1.100e+01, 2.400e+01, 9.000e+00, 1.300e+01, 1.400e+01, 1.200e+01,\n",
              "        1.900e+01, 1.700e+01, 1.400e+01, 1.700e+01, 1.700e+01, 2.200e+01,\n",
              "        1.800e+01, 2.400e+01, 2.100e+01, 1.800e+01, 1.100e+01, 2.400e+01,\n",
              "        1.800e+01, 2.800e+01, 1.400e+01, 3.500e+01, 1.900e+01, 2.300e+01,\n",
              "        2.000e+01, 2.600e+01, 2.200e+01, 2.300e+01, 2.000e+01, 2.100e+01,\n",
              "        2.700e+01, 3.300e+01, 3.000e+01, 3.500e+01, 3.300e+01, 3.100e+01,\n",
              "        3.100e+01, 4.100e+01, 3.700e+01, 3.300e+01, 3.400e+01, 3.500e+01,\n",
              "        2.900e+01, 4.400e+01, 4.200e+01, 4.800e+01, 5.900e+01, 4.600e+01,\n",
              "        3.800e+01, 5.800e+01, 5.700e+01, 5.500e+01, 3.700e+01, 6.100e+01,\n",
              "        6.000e+01, 4.600e+01, 6.400e+01, 6.600e+01, 7.100e+01, 7.200e+01,\n",
              "        7.400e+01, 7.000e+01, 6.900e+01, 6.500e+01, 9.000e+01, 6.900e+01,\n",
              "        7.400e+01, 7.500e+01, 1.050e+02, 9.500e+01, 9.300e+01, 8.100e+01,\n",
              "        8.700e+01, 1.160e+02, 1.030e+02, 9.800e+01, 1.030e+02, 1.080e+02,\n",
              "        1.200e+02, 1.140e+02, 1.180e+02, 1.120e+02, 1.260e+02, 1.500e+02,\n",
              "        9.500e+01, 1.430e+02, 1.430e+02, 1.510e+02, 1.470e+02, 1.300e+02,\n",
              "        1.570e+02, 1.770e+02, 1.490e+02, 1.610e+02, 1.780e+02, 1.490e+02,\n",
              "        1.940e+02, 1.940e+02, 1.950e+02, 1.960e+02, 1.960e+02, 2.000e+02,\n",
              "        2.280e+02, 2.190e+02, 2.360e+02, 2.110e+02, 2.440e+02, 2.130e+02,\n",
              "        2.250e+02, 2.280e+02, 2.470e+02, 2.440e+02, 2.430e+02, 2.630e+02,\n",
              "        2.520e+02, 2.500e+02, 2.750e+02, 2.970e+02, 2.800e+02, 3.100e+02,\n",
              "        3.100e+02, 3.200e+02, 3.170e+02, 3.180e+02, 3.100e+02, 3.430e+02,\n",
              "        3.760e+02, 3.640e+02, 3.920e+02, 3.360e+02, 3.830e+02, 3.600e+02,\n",
              "        3.760e+02, 4.010e+02, 4.110e+02, 3.840e+02, 4.510e+02, 4.410e+02,\n",
              "        4.540e+02, 4.590e+02, 4.770e+02, 4.920e+02, 4.890e+02, 4.770e+02,\n",
              "        4.840e+02, 4.910e+02, 5.150e+02, 5.300e+02, 5.150e+02, 5.470e+02,\n",
              "        5.490e+02, 6.000e+02, 5.800e+02, 5.810e+02, 6.330e+02, 5.930e+02,\n",
              "        5.940e+02, 6.240e+02, 6.660e+02, 6.520e+02, 6.750e+02, 6.690e+02,\n",
              "        6.790e+02, 7.080e+02, 7.540e+02, 7.630e+02, 6.970e+02, 7.400e+02,\n",
              "        7.520e+02, 8.170e+02, 7.490e+02, 8.220e+02, 8.040e+02, 8.340e+02,\n",
              "        8.430e+02, 8.890e+02, 8.660e+02, 9.220e+02, 8.720e+02, 9.350e+02,\n",
              "        9.210e+02, 9.520e+02, 9.920e+02, 1.081e+03, 1.023e+03, 1.007e+03,\n",
              "        1.022e+03, 1.036e+03, 1.056e+03, 1.072e+03, 1.143e+03, 1.137e+03,\n",
              "        1.136e+03, 1.173e+03, 1.161e+03, 1.227e+03, 1.153e+03, 1.257e+03,\n",
              "        1.283e+03, 1.296e+03, 1.304e+03, 1.299e+03, 1.253e+03, 1.272e+03,\n",
              "        1.350e+03, 1.474e+03, 1.381e+03, 1.395e+03, 1.378e+03, 1.405e+03,\n",
              "        1.528e+03, 1.487e+03, 1.488e+03, 1.530e+03, 1.554e+03, 1.542e+03,\n",
              "        1.571e+03, 1.615e+03, 1.627e+03, 1.611e+03, 1.699e+03, 1.692e+03,\n",
              "        1.673e+03, 1.695e+03, 1.734e+03, 1.849e+03, 1.788e+03, 1.755e+03,\n",
              "        1.951e+03, 1.896e+03, 1.924e+03, 1.955e+03, 1.945e+03, 2.023e+03,\n",
              "        1.902e+03, 1.962e+03, 1.990e+03, 2.081e+03, 2.081e+03, 2.107e+03,\n",
              "        2.101e+03, 2.034e+03, 2.170e+03, 2.206e+03, 2.139e+03, 2.262e+03,\n",
              "        2.268e+03, 2.210e+03, 2.222e+03, 2.242e+03, 2.295e+03, 2.279e+03,\n",
              "        2.367e+03, 2.412e+03, 2.468e+03, 2.441e+03, 2.463e+03, 2.466e+03,\n",
              "        2.440e+03, 2.502e+03, 2.546e+03, 2.504e+03, 2.582e+03, 2.570e+03,\n",
              "        2.570e+03, 2.549e+03, 2.685e+03, 2.670e+03, 2.719e+03, 2.716e+03,\n",
              "        2.739e+03, 2.850e+03, 2.849e+03, 2.864e+03, 2.941e+03, 2.871e+03,\n",
              "        2.944e+03, 3.023e+03, 2.884e+03, 2.920e+03, 2.914e+03, 3.030e+03,\n",
              "        3.021e+03, 3.004e+03, 3.077e+03, 3.145e+03, 3.089e+03, 3.140e+03,\n",
              "        3.170e+03, 3.272e+03, 3.182e+03, 3.150e+03, 3.252e+03, 3.339e+03,\n",
              "        3.366e+03, 3.253e+03, 3.328e+03, 3.269e+03, 3.318e+03, 3.354e+03,\n",
              "        3.374e+03, 3.359e+03, 3.398e+03, 3.404e+03, 3.439e+03, 3.498e+03,\n",
              "        3.449e+03, 3.431e+03, 3.568e+03, 3.514e+03, 3.520e+03, 3.588e+03,\n",
              "        3.572e+03, 3.613e+03, 3.567e+03, 3.568e+03, 3.535e+03, 3.524e+03,\n",
              "        3.652e+03, 3.646e+03, 3.730e+03, 3.627e+03, 3.684e+03, 3.778e+03,\n",
              "        3.692e+03, 3.633e+03, 3.788e+03, 3.711e+03, 3.726e+03, 3.699e+03,\n",
              "        3.780e+03, 3.668e+03, 3.793e+03, 3.721e+03, 3.738e+03, 3.803e+03,\n",
              "        3.823e+03, 3.773e+03, 3.813e+03, 3.859e+03, 3.831e+03, 3.846e+03,\n",
              "        3.902e+03, 3.833e+03, 3.834e+03, 3.812e+03, 3.769e+03, 3.825e+03,\n",
              "        3.886e+03, 3.833e+03, 3.846e+03, 3.873e+03, 3.825e+03, 3.799e+03,\n",
              "        3.797e+03, 3.814e+03, 3.813e+03, 3.836e+03, 3.800e+03, 3.807e+03,\n",
              "        3.789e+03, 3.776e+03, 3.839e+03, 3.856e+03, 3.882e+03, 3.768e+03,\n",
              "        3.818e+03, 3.869e+03, 3.821e+03, 3.804e+03, 3.719e+03, 3.925e+03,\n",
              "        3.694e+03, 3.827e+03, 3.806e+03, 3.930e+03, 3.731e+03, 3.777e+03,\n",
              "        3.616e+03, 3.803e+03, 3.742e+03, 3.643e+03, 3.804e+03, 3.770e+03,\n",
              "        3.712e+03, 3.720e+03, 3.665e+03, 3.599e+03, 3.604e+03, 3.642e+03,\n",
              "        3.592e+03, 3.541e+03, 3.755e+03, 3.495e+03, 3.607e+03, 3.520e+03,\n",
              "        3.544e+03, 3.506e+03, 3.439e+03, 3.490e+03, 3.409e+03, 3.509e+03,\n",
              "        3.402e+03, 3.409e+03, 3.419e+03, 3.442e+03, 3.418e+03, 3.330e+03,\n",
              "        3.356e+03, 3.383e+03, 3.375e+03, 3.259e+03, 3.361e+03, 3.227e+03,\n",
              "        3.244e+03, 3.279e+03, 3.225e+03, 3.088e+03, 3.261e+03, 3.183e+03,\n",
              "        3.172e+03, 3.124e+03, 3.147e+03, 2.982e+03, 3.093e+03, 3.112e+03,\n",
              "        3.022e+03, 2.941e+03, 2.909e+03, 2.931e+03, 2.909e+03, 2.953e+03,\n",
              "        2.913e+03, 3.014e+03, 2.880e+03, 2.792e+03, 2.758e+03, 2.717e+03,\n",
              "        2.702e+03, 2.740e+03, 2.816e+03, 2.674e+03, 2.665e+03, 2.612e+03,\n",
              "        2.598e+03, 2.562e+03, 2.564e+03, 2.608e+03, 2.559e+03, 2.522e+03,\n",
              "        2.484e+03, 2.583e+03, 2.452e+03, 2.409e+03, 2.404e+03, 2.430e+03,\n",
              "        2.364e+03, 2.338e+03, 2.320e+03, 2.293e+03, 2.381e+03, 2.214e+03,\n",
              "        2.172e+03, 2.206e+03, 2.107e+03, 2.147e+03, 2.166e+03, 2.166e+03,\n",
              "        2.121e+03, 2.114e+03, 2.070e+03, 2.074e+03, 1.991e+03, 1.902e+03,\n",
              "        1.934e+03, 1.966e+03, 1.926e+03, 1.885e+03, 1.864e+03, 1.910e+03,\n",
              "        1.871e+03, 1.799e+03, 1.770e+03, 1.736e+03, 1.756e+03, 1.717e+03,\n",
              "        1.753e+03, 1.628e+03, 1.681e+03, 1.635e+03, 1.645e+03, 1.593e+03,\n",
              "        1.582e+03, 1.597e+03, 1.463e+03, 1.559e+03, 1.493e+03, 1.439e+03,\n",
              "        1.521e+03, 1.439e+03, 1.405e+03, 1.390e+03, 1.353e+03, 1.377e+03,\n",
              "        1.411e+03, 1.337e+03, 1.289e+03, 1.319e+03, 1.279e+03, 1.214e+03,\n",
              "        1.271e+03, 1.184e+03, 1.134e+03, 1.138e+03, 1.083e+03, 1.163e+03,\n",
              "        1.146e+03, 1.099e+03, 1.094e+03, 1.078e+03, 1.112e+03, 1.033e+03,\n",
              "        9.960e+02, 1.020e+03, 1.024e+03, 1.028e+03, 1.025e+03, 9.710e+02,\n",
              "        9.640e+02, 9.540e+02, 8.760e+02, 9.030e+02, 9.140e+02, 8.720e+02,\n",
              "        8.210e+02, 8.120e+02, 7.970e+02, 8.320e+02, 8.330e+02, 8.050e+02,\n",
              "        7.640e+02, 7.470e+02, 7.580e+02, 6.750e+02, 7.120e+02, 7.200e+02,\n",
              "        7.580e+02, 6.690e+02, 6.350e+02, 6.840e+02, 6.320e+02, 6.270e+02,\n",
              "        5.780e+02, 6.160e+02, 6.190e+02, 6.030e+02, 6.120e+02, 5.860e+02,\n",
              "        5.770e+02, 5.260e+02, 5.530e+02, 5.320e+02, 4.970e+02, 5.030e+02,\n",
              "        5.150e+02, 4.820e+02, 5.180e+02, 4.390e+02, 4.390e+02, 4.300e+02,\n",
              "        4.680e+02, 4.350e+02, 4.370e+02, 4.350e+02, 4.320e+02, 3.590e+02,\n",
              "        3.830e+02, 3.530e+02, 4.000e+02, 3.480e+02, 3.540e+02, 3.540e+02,\n",
              "        3.660e+02, 3.170e+02, 3.340e+02, 3.270e+02, 3.250e+02, 3.210e+02,\n",
              "        2.930e+02, 3.120e+02, 2.900e+02, 2.790e+02, 2.770e+02, 2.610e+02,\n",
              "        3.010e+02, 2.610e+02, 2.430e+02, 2.590e+02, 2.290e+02, 2.420e+02,\n",
              "        2.160e+02, 2.200e+02, 2.490e+02, 2.070e+02, 1.880e+02, 2.380e+02,\n",
              "        1.980e+02, 1.850e+02, 1.980e+02, 2.000e+02, 1.690e+02, 1.700e+02,\n",
              "        1.720e+02, 1.770e+02, 1.540e+02, 1.730e+02, 1.610e+02, 1.420e+02,\n",
              "        1.450e+02, 1.640e+02, 1.440e+02, 1.340e+02, 1.400e+02, 1.160e+02,\n",
              "        1.510e+02, 1.100e+02, 1.090e+02, 1.270e+02, 1.170e+02, 9.000e+01,\n",
              "        1.000e+02, 1.200e+02, 9.600e+01, 1.240e+02, 8.900e+01, 1.110e+02,\n",
              "        1.080e+02, 1.040e+02, 1.030e+02, 9.000e+01, 8.000e+01, 8.100e+01,\n",
              "        9.300e+01, 9.400e+01, 7.700e+01, 8.500e+01, 7.200e+01, 6.000e+01,\n",
              "        6.800e+01, 6.300e+01, 5.900e+01, 7.900e+01, 6.600e+01, 6.100e+01,\n",
              "        4.700e+01, 5.800e+01, 4.700e+01, 6.000e+01, 5.100e+01, 4.600e+01,\n",
              "        4.000e+01, 4.100e+01, 4.900e+01, 4.500e+01, 4.200e+01, 4.400e+01,\n",
              "        4.700e+01, 4.500e+01, 3.400e+01, 3.100e+01, 4.300e+01, 4.100e+01,\n",
              "        4.000e+01, 3.000e+01, 3.300e+01, 3.800e+01, 4.000e+01, 4.100e+01,\n",
              "        2.100e+01, 2.600e+01, 3.800e+01, 1.900e+01, 2.500e+01, 2.700e+01,\n",
              "        2.500e+01, 1.700e+01, 2.600e+01, 2.600e+01, 2.300e+01, 2.200e+01,\n",
              "        1.700e+01, 1.600e+01, 2.600e+01, 2.300e+01, 1.600e+01, 1.600e+01,\n",
              "        1.600e+01, 2.000e+01, 2.300e+01, 1.100e+01, 1.600e+01, 1.000e+01,\n",
              "        1.800e+01, 1.600e+01, 1.400e+01, 9.000e+00, 1.000e+01, 1.100e+01,\n",
              "        1.700e+01, 1.800e+01, 1.500e+01, 1.400e+01, 1.200e+01, 1.400e+01,\n",
              "        7.000e+00, 1.400e+01, 1.000e+01, 7.000e+00, 9.000e+00, 8.000e+00,\n",
              "        7.000e+00, 7.000e+00, 2.000e+00, 5.000e+00, 5.000e+00, 5.000e+00,\n",
              "        6.000e+00, 8.000e+00, 5.000e+00, 5.000e+00, 5.000e+00, 4.000e+00,\n",
              "        8.000e+00, 3.000e+00, 4.000e+00, 7.000e+00, 6.000e+00, 4.000e+00,\n",
              "        3.000e+00, 3.000e+00, 7.000e+00, 6.000e+00, 3.000e+00, 8.000e+00,\n",
              "        2.000e+00, 2.000e+00, 1.000e+00, 3.000e+00, 3.000e+00, 4.000e+00,\n",
              "        4.000e+00, 1.000e+00, 2.000e+00, 1.000e+00, 1.000e+00, 0.000e+00,\n",
              "        4.000e+00, 0.000e+00, 1.000e+00, 1.000e+00, 0.000e+00, 2.000e+00,\n",
              "        1.000e+00, 3.000e+00, 1.000e+00, 2.000e+00, 1.000e+00, 0.000e+00,\n",
              "        2.000e+00, 4.000e+00, 0.000e+00, 2.000e+00, 3.000e+00, 0.000e+00,\n",
              "        3.000e+00, 1.000e+00, 1.000e+00, 1.000e+00, 1.000e+00, 0.000e+00,\n",
              "        1.000e+00, 1.000e+00, 3.000e+00, 1.000e+00, 0.000e+00, 1.000e+00,\n",
              "        1.000e+00, 0.000e+00, 0.000e+00, 2.000e+00, 1.000e+00, 0.000e+00,\n",
              "        3.000e+00, 1.000e+00, 0.000e+00, 0.000e+00, 0.000e+00, 0.000e+00,\n",
              "        0.000e+00, 0.000e+00, 2.000e+00, 0.000e+00, 1.000e+00, 0.000e+00,\n",
              "        1.000e+00, 0.000e+00, 0.000e+00, 1.000e+00, 0.000e+00, 0.000e+00,\n",
              "        0.000e+00, 1.000e+00, 0.000e+00, 0.000e+00, 0.000e+00, 0.000e+00,\n",
              "        0.000e+00, 1.000e+00, 0.000e+00, 0.000e+00, 1.000e+00, 1.000e+00,\n",
              "        0.000e+00, 0.000e+00, 0.000e+00, 0.000e+00, 0.000e+00, 0.000e+00,\n",
              "        0.000e+00, 0.000e+00, 0.000e+00, 0.000e+00, 0.000e+00, 0.000e+00,\n",
              "        0.000e+00, 0.000e+00, 0.000e+00, 0.000e+00, 0.000e+00, 0.000e+00,\n",
              "        1.000e+00, 0.000e+00, 0.000e+00, 0.000e+00, 0.000e+00, 0.000e+00,\n",
              "        0.000e+00, 0.000e+00, 0.000e+00, 0.000e+00, 0.000e+00, 0.000e+00,\n",
              "        0.000e+00, 0.000e+00, 0.000e+00, 0.000e+00, 0.000e+00, 0.000e+00,\n",
              "        0.000e+00, 0.000e+00, 0.000e+00, 0.000e+00, 0.000e+00, 0.000e+00,\n",
              "        0.000e+00, 0.000e+00, 0.000e+00, 1.000e+00]),\n",
              " array([-4.68104208, -4.67141385, -4.66178561, ...,  4.92793545,\n",
              "         4.93756368,  4.94719192]),\n",
              " <a list of 1000 Patch objects>)"
            ]
          },
          "metadata": {},
          "execution_count": 20
        },
        {
          "output_type": "display_data",
          "data": {
            "image/png": "[encoded data removed]",
            "text/plain": [
              "<Figure size 432x288 with 1 Axes>"
            ]
          },
          "metadata": {
            "needs_background": "light"
          }
        }
      ]
    },
    {
      "cell_type": "code",
      "metadata": {
        "colab": {
          "base_uri": "https://localhost:8080/",
          "height": 519
        },
        "id": "zQJ4LnbA-Hvz",
        "outputId": "cc34793f-ed0d-4d7e-9296-5c01e16e6293"
      },
      "source": [
        "import matplotlib.pyplot\n",
        "matplotlib.pyplot.hist(n, bins=30)"
      ],
      "execution_count": 22,
      "outputs": [
        {
          "output_type": "execute_result",
          "data": {
            "text/plain": [
              "(array([3.00000e+00, 1.20000e+01, 8.10000e+01, 2.31000e+02, 7.04000e+02,\n",
              "        1.79100e+03, 4.55600e+03, 9.77500e+03, 1.90980e+04, 3.39750e+04,\n",
              "        5.41560e+04, 7.75310e+04, 1.02496e+05, 1.20230e+05, 1.27503e+05,\n",
              "        1.22414e+05, 1.06141e+05, 8.24940e+04, 5.82860e+04, 3.71360e+04,\n",
              "        2.15050e+04, 1.11530e+04, 5.17700e+03, 2.24300e+03, 8.70000e+02,\n",
              "        3.08000e+02, 8.70000e+01, 3.50000e+01, 7.00000e+00, 2.00000e+00]),\n",
              " array([-4.68104208, -4.36010095, -4.03915981, -3.71821868, -3.39727755,\n",
              "        -3.07633641, -2.75539528, -2.43445415, -2.11351301, -1.79257188,\n",
              "        -1.47163075, -1.15068961, -0.82974848, -0.50880735, -0.18786621,\n",
              "         0.13307492,  0.45401605,  0.77495719,  1.09589832,  1.41683945,\n",
              "         1.73778058,  2.05872172,  2.37966285,  2.70060398,  3.02154512,\n",
              "         3.34248625,  3.66342738,  3.98436852,  4.30530965,  4.62625078,\n",
              "         4.94719192]),\n",
              " <a list of 30 Patch objects>)"
            ]
          },
          "metadata": {},
          "execution_count": 22
        },
        {
          "output_type": "display_data",
          "data": {
            "image/png": "[encoded data removed]",
            "text/plain": [
              "<Figure size 432x288 with 1 Axes>"
            ]
          },
          "metadata": {
            "needs_background": "light"
          }
        }
      ]
    },
    {
      "cell_type": "code",
      "metadata": {
        "id": "AWU6awi53c07",
        "colab": {
          "base_uri": "https://localhost:8080/",
          "height": 350
        },
        "outputId": "9b49fb47-6bac-4887-8815-e5ed130f6c56"
      },
      "source": [
        "import matplotlib.pyplot as plt\n",
        "plt.hist(n)"
      ],
      "execution_count": null,
      "outputs": [
        {
          "output_type": "execute_result",
          "data": {
            "text/plain": [
              "(array([ 4.,  4.,  4.,  8., 19., 21., 16., 13.,  6.,  5.]),\n",
              " array([-2.54804234, -2.0585933 , -1.56914426, -1.07969522, -0.59024618,\n",
              "        -0.10079714,  0.3886519 ,  0.87810094,  1.36754998,  1.85699902,\n",
              "         2.34644806]),\n",
              " <a list of 10 Patch objects>)"
            ]
          },
          "metadata": {},
          "execution_count": 5
        },
        {
          "output_type": "display_data",
          "data": {
            "image/png": "[encoded data removed]",
            "text/plain": [
              "<Figure size 432x288 with 1 Axes>"
            ]
          },
          "metadata": {
            "needs_background": "light"
          }
        }
      ]
    },
    {
      "cell_type": "code",
      "metadata": {
        "colab": {
          "base_uri": "https://localhost:8080/",
          "height": 350
        },
        "id": "moIjn3Kv-Hqy",
        "outputId": "4b1e3880-1576-4b63-b4d0-192704221a8d"
      },
      "source": [
        "from matplotlib import pyplot\n",
        "pyplot.hist(n)"
      ],
      "execution_count": null,
      "outputs": [
        {
          "output_type": "execute_result",
          "data": {
            "text/plain": [
              "(array([ 3.,  4.,  9., 11., 26., 19., 16., 10.,  1.,  1.]),\n",
              " array([-2.51307585, -1.99199295, -1.47091005, -0.94982715, -0.42874425,\n",
              "         0.09233865,  0.61342155,  1.13450445,  1.65558734,  2.17667024,\n",
              "         2.69775314]),\n",
              " <a list of 10 Patch objects>)"
            ]
          },
          "metadata": {},
          "execution_count": 11
        },
        {
          "output_type": "display_data",
          "data": {
            "image/png": "[encoded data removed]",
            "text/plain": [
              "<Figure size 432x288 with 1 Axes>"
            ]
          },
          "metadata": {
            "needs_background": "light"
          }
        }
      ]
    },
    {
      "cell_type": "code",
      "metadata": {
        "colab": {
          "base_uri": "https://localhost:8080/",
          "height": 350
        },
        "id": "ORo259i7_Uqi",
        "outputId": "8faa9ebd-66ff-4f86-e588-f114023e649d"
      },
      "source": [
        "from matplotlib.pyplot import hist\n",
        "hist(n)"
      ],
      "execution_count": null,
      "outputs": [
        {
          "output_type": "execute_result",
          "data": {
            "text/plain": [
              "(array([ 3.,  4.,  9., 11., 26., 19., 16., 10.,  1.,  1.]),\n",
              " array([-2.51307585, -1.99199295, -1.47091005, -0.94982715, -0.42874425,\n",
              "         0.09233865,  0.61342155,  1.13450445,  1.65558734,  2.17667024,\n",
              "         2.69775314]),\n",
              " <a list of 10 Patch objects>)"
            ]
          },
          "metadata": {},
          "execution_count": 14
        },
        {
          "output_type": "display_data",
          "data": {
            "image/png": "[encoded data removed]",
            "text/plain": [
              "<Figure size 432x288 with 1 Axes>"
            ]
          },
          "metadata": {
            "needs_background": "light"
          }
        }
      ]
    }
  ]
}